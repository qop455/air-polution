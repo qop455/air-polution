{
 "cells": [
  {
   "cell_type": "code",
   "execution_count": 1,
   "metadata": {
    "collapsed": true
   },
   "outputs": [],
   "source": [
    "import pandas"
   ]
  },
  {
   "cell_type": "code",
   "execution_count": 5,
   "metadata": {},
   "outputs": [
    {
     "name": "stdout",
     "output_type": "stream",
     "text": [
      "(87672, 14)\n",
      "(87672, 14)\n",
      "(87672, 14)\n",
      "(87672, 14)\n",
      "(87672, 14)\n",
      "(87672, 14)\n",
      "(87672, 14)\n",
      "(87672, 14)\n",
      "(87672, 14)\n",
      "(87672, 14)\n",
      "(87672, 14)\n"
     ]
    }
   ],
   "source": [
    "for i in range(11):\n",
    "    df = pandas.read_csv(\"data/central_reg/filted/1.csv\")\n",
    "    print(df.shape)"
   ]
  }
 ],
 "metadata": {
  "kernelspec": {
   "display_name": "Python 3",
   "language": "python",
   "name": "python3"
  },
  "language_info": {
   "codemirror_mode": {
    "name": "ipython",
    "version": 3
   },
   "file_extension": ".py",
   "mimetype": "text/x-python",
   "name": "python",
   "nbconvert_exporter": "python",
   "pygments_lexer": "ipython3",
   "version": "3.6.2"
  }
 },
 "nbformat": 4,
 "nbformat_minor": 2
}
