{
 "cells": [
  {
   "cell_type": "raw",
   "metadata": {},
   "source": [
    "2017-06-08"
   ]
  },
  {
   "cell_type": "markdown",
   "metadata": {},
   "source": [
    "# Library"
   ]
  },
  {
   "cell_type": "code",
   "execution_count": 1,
   "metadata": {
    "collapsed": true
   },
   "outputs": [],
   "source": [
    "%matplotlib inline\n",
    "from sklearn import neural_network\n",
    "from sklearn import linear_model\n",
    "from sklearn.tree import DecisionTreeRegressor\n",
    "from sklearn.ensemble import AdaBoostRegressor\n",
    "\n",
    "import pandas as pd\n",
    "import numpy as np\n",
    "\n",
    "import matplotlib.pyplot as plt\n",
    "from sklearn.metrics import mean_squared_error"
   ]
  },
  {
   "cell_type": "markdown",
   "metadata": {},
   "source": [
    "# Global"
   ]
  },
  {
   "cell_type": "code",
   "execution_count": 2,
   "metadata": {
    "collapsed": true
   },
   "outputs": [],
   "source": [
    "predict = dict()"
   ]
  },
  {
   "cell_type": "markdown",
   "metadata": {},
   "source": [
    "# Data preprocess"
   ]
  },
  {
   "cell_type": "code",
   "execution_count": 3,
   "metadata": {
    "collapsed": true
   },
   "outputs": [],
   "source": [
    "date_feature = pd.read_csv(\"../data/date_feature.csv\", parse_dates=True).fillna(value=0)"
   ]
  },
  {
   "cell_type": "code",
   "execution_count": 4,
   "metadata": {},
   "outputs": [
    {
     "data": {
      "text/plain": [
       "0    2016/1/1 0:00\n",
       "1    2016/1/1 1:00\n",
       "2    2016/1/1 2:00\n",
       "3    2016/1/1 3:00\n",
       "4    2016/1/1 4:00\n",
       "Name: datetime, dtype: object"
      ]
     },
     "execution_count": 4,
     "metadata": {},
     "output_type": "execute_result"
    }
   ],
   "source": [
    "date_feature.datetime.head()"
   ]
  },
  {
   "cell_type": "code",
   "execution_count": 5,
   "metadata": {},
   "outputs": [
    {
     "data": {
      "text/html": [
       "<div>\n",
       "<style>\n",
       "    .dataframe thead tr:only-child th {\n",
       "        text-align: right;\n",
       "    }\n",
       "\n",
       "    .dataframe thead th {\n",
       "        text-align: left;\n",
       "    }\n",
       "\n",
       "    .dataframe tbody tr th {\n",
       "        vertical-align: top;\n",
       "    }\n",
       "</style>\n",
       "<table border=\"1\" class=\"dataframe\">\n",
       "  <thead>\n",
       "    <tr style=\"text-align: right;\">\n",
       "      <th></th>\n",
       "      <th>datetime</th>\n",
       "      <th>AMB_TEMP</th>\n",
       "      <th>PM2.5</th>\n",
       "      <th>RAINFALL</th>\n",
       "      <th>RH</th>\n",
       "      <th>WIND_SPEED</th>\n",
       "      <th>WS_HR</th>\n",
       "      <th>origin_PM2.5</th>\n",
       "      <th>weekday</th>\n",
       "      <th>weekend</th>\n",
       "      <th>...</th>\n",
       "      <th>hour_19</th>\n",
       "      <th>hour_20</th>\n",
       "      <th>hour_21</th>\n",
       "      <th>hour_22</th>\n",
       "      <th>hour_23</th>\n",
       "      <th>fall</th>\n",
       "      <th>spring</th>\n",
       "      <th>summer</th>\n",
       "      <th>winter</th>\n",
       "      <th>dlt_PM2.5</th>\n",
       "    </tr>\n",
       "  </thead>\n",
       "  <tbody>\n",
       "    <tr>\n",
       "      <th>3648</th>\n",
       "      <td>2016/6/1 0:00</td>\n",
       "      <td>0.71831</td>\n",
       "      <td>0.037594</td>\n",
       "      <td>0.0</td>\n",
       "      <td>0.848837</td>\n",
       "      <td>0.285714</td>\n",
       "      <td>0.333333</td>\n",
       "      <td>11.0</td>\n",
       "      <td>1</td>\n",
       "      <td>0</td>\n",
       "      <td>...</td>\n",
       "      <td>0</td>\n",
       "      <td>0</td>\n",
       "      <td>0</td>\n",
       "      <td>0</td>\n",
       "      <td>0</td>\n",
       "      <td>0</td>\n",
       "      <td>0</td>\n",
       "      <td>1</td>\n",
       "      <td>0</td>\n",
       "      <td>-0.007519</td>\n",
       "    </tr>\n",
       "  </tbody>\n",
       "</table>\n",
       "<p>1 rows × 39 columns</p>\n",
       "</div>"
      ],
      "text/plain": [
       "           datetime  AMB_TEMP     PM2.5  RAINFALL        RH  WIND_SPEED  \\\n",
       "3648  2016/6/1 0:00   0.71831  0.037594       0.0  0.848837    0.285714   \n",
       "\n",
       "         WS_HR  origin_PM2.5  weekday  weekend    ...      hour_19  hour_20  \\\n",
       "3648  0.333333          11.0        1        0    ...            0        0   \n",
       "\n",
       "      hour_21  hour_22  hour_23  fall  spring  summer  winter  dlt_PM2.5  \n",
       "3648        0        0        0     0       0       1       0  -0.007519  \n",
       "\n",
       "[1 rows x 39 columns]"
      ]
     },
     "execution_count": 5,
     "metadata": {},
     "output_type": "execute_result"
    }
   ],
   "source": [
    "date_feature[date_feature.datetime == \"2016/6/1 0:00\"]"
   ]
  },
  {
   "cell_type": "code",
   "execution_count": 6,
   "metadata": {},
   "outputs": [],
   "source": [
    "train_start, train_size = 3648, 24*28\n",
    "train = date_feature[train_start:train_start + train_size]\n",
    "test = date_feature[train_start + train_size:train_start +  train_size + 48]"
   ]
  },
  {
   "cell_type": "code",
   "execution_count": 7,
   "metadata": {
    "collapsed": true
   },
   "outputs": [],
   "source": [
    "exclude = ['datetime', 'PM2.5', 'PM10', 'WIND_DIREC', 'WD_HR', 'CO', 'NO', 'NO2', 'NOx', 'O3', 'SO2', 'origin_PM2.5', 'dlt_PM2.5']\n",
    "features = [f for f in date_feature.columns if f not in exclude]"
   ]
  },
  {
   "cell_type": "code",
   "execution_count": 8,
   "metadata": {},
   "outputs": [
    {
     "name": "stdout",
     "output_type": "stream",
     "text": [
      "['AMB_TEMP', 'RAINFALL', 'RH', 'WIND_SPEED', 'WS_HR', 'weekday', 'weekend', 'hour_0', 'hour_1', 'hour_2', 'hour_3', 'hour_4', 'hour_5', 'hour_6', 'hour_7', 'hour_8', 'hour_9', 'hour_10', 'hour_11', 'hour_12', 'hour_13', 'hour_14', 'hour_15', 'hour_16', 'hour_17', 'hour_18', 'hour_19', 'hour_20', 'hour_21', 'hour_22', 'hour_23', 'fall', 'spring', 'summer', 'winter']\n"
     ]
    }
   ],
   "source": [
    "print features"
   ]
  },
  {
   "cell_type": "code",
   "execution_count": 9,
   "metadata": {
    "collapsed": true
   },
   "outputs": [],
   "source": [
    "target = \"PM2.5\""
   ]
  },
  {
   "cell_type": "code",
   "execution_count": 10,
   "metadata": {
    "collapsed": true
   },
   "outputs": [],
   "source": [
    "X_train, y_train = train[features], train[target]\n",
    "X_test, y_test = test[features], test[target]"
   ]
  },
  {
   "cell_type": "markdown",
   "metadata": {},
   "source": [
    "# Regression Tree"
   ]
  },
  {
   "cell_type": "code",
   "execution_count": 11,
   "metadata": {},
   "outputs": [
    {
     "name": "stdout",
     "output_type": "stream",
     "text": [
      "Importances: \n",
      "[  7.87767145e-02   4.62805412e-04   2.91816032e-01   1.02437742e-01\n",
      "   8.08447942e-02   2.36458412e-02   4.00992086e-02   6.92627912e-04\n",
      "   4.33486134e-04   4.07263967e-04   2.07399575e-03   4.50050841e-04\n",
      "   3.06608343e-03   1.13707447e-02   6.22754293e-03   2.13706606e-03\n",
      "   7.22579121e-04   8.28405626e-04   1.45670213e-03   3.87076544e-04\n",
      "   2.85881729e-04   0.00000000e+00   1.50772771e-04   3.50454667e-04\n",
      "   1.88843522e-02   1.89193013e-02   1.29513246e-02   5.98400012e-02\n",
      "   1.03254355e-01   1.03646131e-01   3.33806625e-02   0.00000000e+00\n",
      "   0.00000000e+00   0.00000000e+00   0.00000000e+00]\n"
     ]
    }
   ],
   "source": [
    "RT = AdaBoostRegressor(DecisionTreeRegressor(max_depth=5))\n",
    "RT.fit(X_train, y_train)\n",
    "print 'Importances: \\n', RT.feature_importances_"
   ]
  },
  {
   "cell_type": "code",
   "execution_count": 13,
   "metadata": {},
   "outputs": [],
   "source": [
    "predict[\"RT\"] = RT.predict(X_test)"
   ]
  },
  {
   "cell_type": "markdown",
   "metadata": {},
   "source": [
    "# Linear Regression"
   ]
  },
  {
   "cell_type": "code",
   "execution_count": 14,
   "metadata": {},
   "outputs": [
    {
     "name": "stdout",
     "output_type": "stream",
     "text": [
      "Coefficients: \n",
      "[  1.44914227e-01   2.24756582e-02  -7.62914909e-03  -3.70370446e-02\n",
      "  -5.50458175e-02   2.83816426e+11   2.83816426e+11   4.40215576e+08\n",
      "   4.40215576e+08   4.40215576e+08   4.40215576e+08   4.40215576e+08\n",
      "   4.40215576e+08   4.40215576e+08   4.40215576e+08   4.40215576e+08\n",
      "   4.40215576e+08   4.40215576e+08   4.40215576e+08   4.40215576e+08\n",
      "   4.40215576e+08   4.40215576e+08   4.40215576e+08   4.40215576e+08\n",
      "   4.40215576e+08   4.40215576e+08   4.40215576e+08   4.40215576e+08\n",
      "   4.40215576e+08   4.40215576e+08   4.40215576e+08   0.00000000e+00\n",
      "   0.00000000e+00   0.00000000e+00   0.00000000e+00]\n"
     ]
    },
    {
     "name": "stderr",
     "output_type": "stream",
     "text": [
      "/Library/Frameworks/Python.framework/Versions/2.7/lib/python2.7/site-packages/scipy/linalg/basic.py:1018: RuntimeWarning: internal gelsd driver lwork query error, required iwork dimension not returned. This is likely the result of LAPACK bug 0038, fixed in LAPACK 3.2.2 (released July 21, 2010). Falling back to 'gelss' driver.\n",
      "  warnings.warn(mesg, RuntimeWarning)\n"
     ]
    }
   ],
   "source": [
    "LR = linear_model.LinearRegression()\n",
    "LR.fit(X_train, y_train)\n",
    "print 'Coefficients: \\n', LR.coef_"
   ]
  },
  {
   "cell_type": "code",
   "execution_count": 15,
   "metadata": {
    "collapsed": true
   },
   "outputs": [],
   "source": [
    "predict[\"LR\"] = LR.predict(X_test)"
   ]
  },
  {
   "cell_type": "markdown",
   "metadata": {},
   "source": [
    "# MLP Regression"
   ]
  },
  {
   "cell_type": "code",
   "execution_count": 16,
   "metadata": {},
   "outputs": [
    {
     "name": "stdout",
     "output_type": "stream",
     "text": [
      "Model: \n",
      "MLPRegressor(activation='relu', alpha=0.0001, batch_size='auto', beta_1=0.9,\n",
      "       beta_2=0.999, early_stopping=False, epsilon=1e-08,\n",
      "       hidden_layer_sizes=(100,), learning_rate='constant',\n",
      "       learning_rate_init=0.001, max_iter=200, momentum=0.9,\n",
      "       nesterovs_momentum=True, power_t=0.5, random_state=None,\n",
      "       shuffle=True, solver='adam', tol=0.0001, validation_fraction=0.1,\n",
      "       verbose=False, warm_start=False)\n"
     ]
    }
   ],
   "source": [
    "MLP = neural_network.MLPRegressor(activation='relu')\n",
    "MLP.fit(X_train, y_train)\n",
    "print 'Model: \\n', MLP"
   ]
  },
  {
   "cell_type": "code",
   "execution_count": 17,
   "metadata": {
    "collapsed": true
   },
   "outputs": [],
   "source": [
    "predict[\"MLP\"] = MLP.predict(X_test)"
   ]
  },
  {
   "cell_type": "markdown",
   "metadata": {},
   "source": [
    "# Plot"
   ]
  },
  {
   "cell_type": "code",
   "execution_count": 19,
   "metadata": {},
   "outputs": [
    {
     "data": {
      "image/png": "[encoded data removed]",
      "text/plain": [
       "<matplotlib.figure.Figure at 0x10a926850>"
      ]
     },
     "metadata": {},
     "output_type": "display_data"
    }
   ],
   "source": [
    "plt.rcParams['figure.figsize'] = [16.0, 8.0]\n",
    "plt.figure()\n",
    "plt.title(target)\n",
    "plt.xlabel(\"Index\")\n",
    "plt.ylabel(\"Value\")\n",
    "plt.plot(y_test.tolist(), label=\"Real\")\n",
    "\n",
    "for key, value in predict.iteritems():\n",
    "    plt.plot(value, label=key)\n",
    "    \n",
    "plt.plot([0, len(y_test)], [0, 0])\n",
    "plt.legend(loc='upper left')\n",
    "plt.show()"
   ]
  },
  {
   "cell_type": "code",
   "execution_count": 26,
   "metadata": {},
   "outputs": [
    {
     "data": {
      "image/png": "[encoded data removed]",
      "text/plain": [
       "<matplotlib.figure.Figure at 0x10cecb310>"
      ]
     },
     "metadata": {},
     "output_type": "display_data"
    }
   ],
   "source": [
    "plt.rcParams['figure.figsize'] = [16.0, 8.0]\n",
    "plt.xlabel('Predict')\n",
    "plt.ylabel('Real')\n",
    "\n",
    "for key, value in predict.iteritems():\n",
    "    plt.plot(value, y_test.tolist(), 'o')\n",
    "    \n",
    "plt.show()"
   ]
  },
  {
   "cell_type": "markdown",
   "metadata": {},
   "source": [
    "# Measure"
   ]
  },
  {
   "cell_type": "code",
   "execution_count": 31,
   "metadata": {},
   "outputs": [
    {
     "name": "stdout",
     "output_type": "stream",
     "text": [
      "'RT' mean squared error: 0.022912\n",
      "'MLP' mean squared error: 0.022406\n",
      "'LR' mean squared error: 0.022125\n"
     ]
    }
   ],
   "source": [
    "for key, value in predict.iteritems():\n",
    "    print(\"'%s' mean squared error: %.6f\"\n",
    "          % (key, mean_squared_error(value, y_test)))"
   ]
  },
  {
   "cell_type": "code",
   "execution_count": null,
   "metadata": {
    "collapsed": true
   },
   "outputs": [],
   "source": []
  }
 ],
 "metadata": {
  "kernelspec": {
   "display_name": "Python 2",
   "language": "python",
   "name": "python2"
  },
  "language_info": {
   "codemirror_mode": {
    "name": "ipython",
    "version": 2
   },
   "file_extension": ".py",
   "mimetype": "text/x-python",
   "name": "python",
   "nbconvert_exporter": "python",
   "pygments_lexer": "ipython2",
   "version": "2.7.13"
  }
 },
 "nbformat": 4,
 "nbformat_minor": 2
}
