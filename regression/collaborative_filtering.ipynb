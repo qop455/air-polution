{
 "cells": [
  {
   "cell_type": "code",
   "execution_count": null,
   "metadata": {},
   "outputs": [],
   "source": [
    "import pandas as pd\n",
    "import numpy as np\n",
    "import scipy.spatial\n",
    "import math\n",
    "import time\n",
    "from math import sqrt"
   ]
  },
  {
   "cell_type": "code",
   "execution_count": null,
   "metadata": {
    "collapsed": true
   },
   "outputs": [],
   "source": [
    "data = pd.read_csv(\"data/fillna_zeros.csv\")\n",
    "data = data[:100]\n",
    "feature = [f for f in data.columns if f not in ['datetime']]\n",
    "data = data[feature]\n",
    "row_num = len(data)\n",
    "col_num = len(feature)"
   ]
  },
  {
   "cell_type": "code",
   "execution_count": null,
   "metadata": {},
   "outputs": [],
   "source": [
    "similarity = np.zeros((row_num, row_num))\n",
    "start = time.time()\n",
    "for index, row in data.iterrows():\n",
    "    if np.count_nonzero(row):\n",
    "        subdata = data[:index]\n",
    "        for i, r in subdata.iterrows():\n",
    "             if np.count_nonzero(r):\n",
    "                    similarity[index][i] = 1 - scipy.spatial.distance.cosine(row, r)\n",
    "\n",
    "end = time.time()\n",
    "print \"It costs \", end - start, \" s.\""
   ]
  },
  {
   "cell_type": "code",
   "execution_count": null,
   "metadata": {},
   "outputs": [],
   "source": [
    "similarity"
   ]
  },
  {
   "cell_type": "code",
   "execution_count": null,
   "metadata": {
    "collapsed": true
   },
   "outputs": [],
   "source": []
  }
 ],
 "metadata": {
  "kernelspec": {
   "display_name": "Python 2",
   "language": "python",
   "name": "python2"
  },
  "language_info": {
   "codemirror_mode": {
    "name": "ipython",
    "version": 2
   },
   "file_extension": ".py",
   "mimetype": "text/x-python",
   "name": "python",
   "nbconvert_exporter": "python",
   "pygments_lexer": "ipython2",
   "version": "2.7.13"
  }
 },
 "nbformat": 4,
 "nbformat_minor": 2
}
