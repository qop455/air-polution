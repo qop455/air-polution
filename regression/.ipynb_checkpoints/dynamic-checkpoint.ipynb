{
 "cells": [
  {
   "cell_type": "raw",
   "metadata": {},
   "source": [
    "2017-06-08"
   ]
  },
  {
   "cell_type": "markdown",
   "metadata": {},
   "source": [
    "# Library"
   ]
  },
  {
   "cell_type": "code",
   "execution_count": 1,
   "metadata": {
    "collapsed": true
   },
   "outputs": [],
   "source": [
    "%matplotlib inline\n",
    "import datetime\n",
    "timeformat = \"%Y-%m-%d %H:%M:%S\"\n",
    "\n",
    "from sklearn import neural_network\n",
    "from sklearn import linear_model\n",
    "from sklearn.preprocessing import StandardScaler\n",
    "from sklearn.tree import DecisionTreeRegressor\n",
    "from sklearn.ensemble import AdaBoostRegressor\n",
    "\n",
    "import pandas as pd\n",
    "import numpy as np\n",
    "import time\n",
    "\n",
    "import matplotlib.pyplot as plt\n",
    "import plotly.plotly as py\n",
    "from sklearn.metrics import mean_squared_error\n",
    "from math import sqrt\n",
    "\n",
    "plt.rcParams['figure.figsize'] = [16.0, 8.0]\n",
    "colors = {'MLP':'C3', 'RT':'C2', 'LR':'C1', 'Real':'C0'}"
   ]
  },
  {
   "cell_type": "markdown",
   "metadata": {},
   "source": [
    "# Global"
   ]
  },
  {
   "cell_type": "code",
   "execution_count": 2,
   "metadata": {
    "collapsed": true
   },
   "outputs": [],
   "source": [
    "predict = dict()\n",
    "predict['datetime'], predict['RT'], predict['LR'], predict['MLP'] = [], [], [], []\n",
    "rmse = dict()\n",
    "rmse['datetime'], rmse['RT'], rmse['LR'], rmse['MLP'] = [], [], [], []\n",
    "importances = pd.DataFrame()\n",
    "coefficients = pd.DataFrame()"
   ]
  },
  {
   "cell_type": "markdown",
   "metadata": {},
   "source": [
    "# Function"
   ]
  },
  {
   "cell_type": "code",
   "execution_count": null,
   "metadata": {
    "collapsed": true
   },
   "outputs": [],
   "source": []
  },
  {
   "cell_type": "markdown",
   "metadata": {},
   "source": [
    "# Data preprocess"
   ]
  },
  {
   "cell_type": "code",
   "execution_count": 3,
   "metadata": {
    "collapsed": true
   },
   "outputs": [],
   "source": [
    "pm25 = pd.read_csv(\"../data/Erlin.csv\", parse_dates=True)[['PM2.5']]"
   ]
  },
  {
   "cell_type": "code",
   "execution_count": null,
   "metadata": {
    "collapsed": true
   },
   "outputs": [],
   "source": [
    "date_feature = pd.read_csv(\"../data/date_feature.csv\", parse_dates=True)\n",
    "time_series = pd.read_csv(\"../data/pm2.5_timeseries.csv\", parse_dates=True)\n",
    "meteorology = pd.read_csv(\"../data/Erlin_normalization.csv\", parse_dates=True)\n",
    "\n",
    "time_series = time_series[[column for column in time_series.columns if column not in ['datetime']]]\n",
    "time_series = time_series[['t-12', 't-11', 't-10', 't-9', 't-8', 't-7', 't-6', 't-5', 't-4', 't-3', 't-2', 't-1']]\n",
    "meteorology = meteorology[['AMB_TEMP', 'RAINFALL', 'RH', 'WIND_SPEED']]\n",
    "\n",
    "## to forecast PM2.5(t), we use RAINFALL(t-1) instead of RAINFALL(t)\n",
    "## cause we could not know RAINFALL(t) from weather forecast\n",
    "meteorology.RAINFALL = meteorology.RAINFALL.shift()\n",
    "\n",
    "data = pd.concat([pm25, meteorology, time_series, date_feature], axis=1)\n",
    "\n",
    "target = \"PM2.5\"\n",
    "exclude = ['datetime', target]\n",
    "features = [f for f in data.columns if f not in exclude]"
   ]
  },
  {
   "cell_type": "markdown",
   "metadata": {},
   "source": [
    "# Training"
   ]
  },
  {
   "cell_type": "code",
   "execution_count": null,
   "metadata": {},
   "outputs": [
    {
     "name": "stdout",
     "output_type": "stream",
     "text": [
      "Time Period:  2016-06-01 00:00:00 ~ 2016-06-02 00:00:00\n"
     ]
    },
    {
     "name": "stderr",
     "output_type": "stream",
     "text": [
      "/Library/Frameworks/Python.framework/Versions/2.7/lib/python2.7/site-packages/scipy/linalg/basic.py:1018: RuntimeWarning:\n",
      "\n",
      "internal gelsd driver lwork query error, required iwork dimension not returned. This is likely the result of LAPACK bug 0038, fixed in LAPACK 3.2.2 (released July 21, 2010). Falling back to 'gelss' driver.\n",
      "\n"
     ]
    },
    {
     "name": "stdout",
     "output_type": "stream",
     "text": [
      "Time Period:  2016-06-02 00:00:00 ~ 2016-06-03 00:00:00\n",
      "Time Period:  2016-06-03 00:00:00 ~ 2016-06-04 00:00:00\n",
      "Time Period:  2016-06-04 00:00:00 ~ 2016-06-05 00:00:00\n",
      "Time Period:  2016-06-05 00:00:00 ~ 2016-06-06 00:00:00\n",
      "Time Period:  2016-06-06 00:00:00 ~ 2016-06-07 00:00:00\n",
      "Time Period:  2016-06-07 00:00:00 ~ 2016-06-08 00:00:00\n",
      "Time Period:  2016-06-08 00:00:00 ~ 2016-06-09 00:00:00\n",
      "Time Period:  2016-06-09 00:00:00 ~ 2016-06-10 00:00:00\n",
      "Time Period:  2016-06-10 00:00:00 ~ 2016-06-11 00:00:00\n",
      "Time Period:  2016-06-11 00:00:00 ~ 2016-06-12 00:00:00\n",
      "Time Period:  2016-06-12 00:00:00 ~ 2016-06-13 00:00:00\n",
      "Time Period:  2016-06-13 00:00:00 ~ 2016-06-14 00:00:00\n",
      "Time Period:  2016-06-14 00:00:00 ~ 2016-06-15 00:00:00\n",
      "Time Period:  2016-06-15 00:00:00 ~ 2016-06-16 00:00:00\n",
      "Time Period:  2016-06-16 00:00:00 ~ 2016-06-17 00:00:00\n",
      "Time Period:  2016-06-17 00:00:00 ~ 2016-06-18 00:00:00\n",
      "Time Period:  2016-06-18 00:00:00 ~ 2016-06-19 00:00:00\n",
      "Time Period:  2016-06-19 00:00:00 ~ 2016-06-20 00:00:00\n",
      "Time Period:  2016-06-20 00:00:00 ~ 2016-06-21 00:00:00\n",
      "Time Period:  2016-06-21 00:00:00 ~ 2016-06-22 00:00:00\n",
      "Time Period:  2016-06-22 00:00:00 ~ 2016-06-23 00:00:00\n",
      "Time Period:  2016-06-23 00:00:00 ~ 2016-06-24 00:00:00\n",
      "Time Period:  2016-06-24 00:00:00 ~ 2016-06-25 00:00:00\n",
      "Time Period:  2016-06-25 00:00:00 ~ 2016-06-26 00:00:00\n",
      "Time Period:  2016-06-26 00:00:00 ~ 2016-06-27 00:00:00\n",
      "Time Period:  2016-06-27 00:00:00 ~ 2016-06-28 00:00:00\n",
      "Time Period:  2016-06-28 00:00:00 ~ 2016-06-29 00:00:00\n",
      "Time Period:  2016-06-29 00:00:00 ~ 2016-06-30 00:00:00\n",
      "Time Period:  2016-06-30 00:00:00 ~ 2016-07-01 00:00:00\n",
      "Time Period:  2016-07-01 00:00:00 ~ 2016-07-02 00:00:00\n",
      "Time Period:  2016-07-02 00:00:00 ~ 2016-07-03 00:00:00\n",
      "Time Period:  2016-07-03 00:00:00 ~ 2016-07-04 00:00:00\n",
      "Time Period:  2016-07-04 00:00:00 ~ 2016-07-05 00:00:00\n",
      "Time Period:  2016-07-05 00:00:00 ~ 2016-07-06 00:00:00\n",
      "Time Period:  2016-07-06 00:00:00 ~ 2016-07-07 00:00:00\n",
      "Time Period:  2016-07-07 00:00:00 ~ 2016-07-08 00:00:00\n",
      "Time Period:  2016-07-08 00:00:00 ~ 2016-07-09 00:00:00\n",
      "Time Period:  2016-07-09 00:00:00 ~ 2016-07-10 00:00:00\n",
      "Time Period:  2016-07-10 00:00:00 ~ 2016-07-11 00:00:00\n",
      "Time Period:  2016-07-11 00:00:00 ~ 2016-07-12 00:00:00\n",
      "Time Period:  2016-07-12 00:00:00 ~ 2016-07-13 00:00:00\n",
      "Time Period:  2016-07-13 00:00:00 ~ 2016-07-14 00:00:00\n",
      "Time Period:  2016-07-14 00:00:00 ~ 2016-07-15 00:00:00\n",
      "Time Period:  2016-07-15 00:00:00 ~ 2016-07-16 00:00:00\n",
      "Time Period:  2016-07-16 00:00:00 ~ 2016-07-17 00:00:00\n",
      "Time Period:  2016-07-17 00:00:00 ~ 2016-07-18 00:00:00\n",
      "Time Period:  2016-07-18 00:00:00 ~ 2016-07-19 00:00:00\n",
      "Time Period:  2016-07-19 00:00:00 ~ 2016-07-20 00:00:00\n",
      "Time Period:  2016-07-20 00:00:00 ~ 2016-07-21 00:00:00\n",
      "Time Period:  2016-07-21 00:00:00 ~ 2016-07-22 00:00:00\n",
      "Time Period:  2016-07-22 00:00:00 ~ 2016-07-23 00:00:00\n",
      "Time Period:  2016-07-23 00:00:00 ~ 2016-07-24 00:00:00\n",
      "Time Period:  2016-07-24 00:00:00 ~ 2016-07-25 00:00:00\n",
      "Time Period:  2016-07-25 00:00:00 ~ 2016-07-26 00:00:00\n",
      "Time Period:  2016-07-26 00:00:00 ~ 2016-07-27 00:00:00\n",
      "Time Period:  2016-07-27 00:00:00 ~ 2016-07-28 00:00:00\n",
      "Time Period:  2016-07-28 00:00:00 ~ 2016-07-29 00:00:00\n",
      "Time Period:  2016-07-29 00:00:00 ~ 2016-07-30 00:00:00\n",
      "Time Period:  2016-07-30 00:00:00 ~ 2016-07-31 00:00:00\n",
      "Time Period:  2016-07-31 00:00:00 ~ 2016-08-01 00:00:00\n",
      "Time Period:  2016-08-01 00:00:00 ~ 2016-08-02 00:00:00\n",
      "Time Period:  2016-08-02 00:00:00 ~ 2016-08-03 00:00:00\n",
      "Time Period:  2016-08-03 00:00:00 ~ 2016-08-04 00:00:00\n",
      "Time Period:  2016-08-04 00:00:00 ~ 2016-08-05 00:00:00\n",
      "Time Period:  2016-08-05 00:00:00 ~ 2016-08-06 00:00:00\n",
      "Time Period:  2016-08-06 00:00:00 ~ 2016-08-07 00:00:00\n",
      "Time Period:  2016-08-07 00:00:00 ~ 2016-08-08 00:00:00\n",
      "Time Period:  2016-08-08 00:00:00 ~ 2016-08-09 00:00:00\n",
      "Time Period:  2016-08-09 00:00:00 ~ 2016-08-10 00:00:00\n",
      "Time Period:  2016-08-10 00:00:00 ~ 2016-08-11 00:00:00\n",
      "Time Period:  2016-08-11 00:00:00 ~ 2016-08-12 00:00:00\n",
      "Time Period:  2016-08-12 00:00:00 ~ 2016-08-13 00:00:00\n",
      "Time Period:  2016-08-13 00:00:00 ~ 2016-08-14 00:00:00\n",
      "Time Period:  2016-08-14 00:00:00 ~ 2016-08-15 00:00:00\n",
      "Time Period:  2016-08-15 00:00:00 ~ 2016-08-16 00:00:00\n",
      "Time Period:  2016-08-16 00:00:00 ~ 2016-08-17 00:00:00\n",
      "Time Period:  2016-08-17 00:00:00 ~ 2016-08-18 00:00:00\n",
      "Time Period:  2016-08-18 00:00:00 ~ 2016-08-19 00:00:00\n",
      "Time Period:  2016-08-19 00:00:00 ~ 2016-08-20 00:00:00\n",
      "Time Period:  2016-08-20 00:00:00 ~ 2016-08-21 00:00:00\n",
      "Time Period:  2016-08-21 00:00:00 ~ 2016-08-22 00:00:00\n",
      "Time Period:  2016-08-22 00:00:00 ~ 2016-08-23 00:00:00\n",
      "Time Period:  2016-08-23 00:00:00 ~ 2016-08-24 00:00:00\n",
      "Time Period:  2016-08-24 00:00:00 ~ 2016-08-25 00:00:00\n",
      "Time Period:  2016-08-25 00:00:00 ~ 2016-08-26 00:00:00\n",
      "Time Period:  2016-08-26 00:00:00 ~ 2016-08-27 00:00:00\n",
      "Time Period:  2016-08-27 00:00:00 ~ 2016-08-28 00:00:00\n",
      "Time Period:  2016-08-28 00:00:00 ~ 2016-08-29 00:00:00\n",
      "Time Period:  2016-08-29 00:00:00 ~ 2016-08-30 00:00:00\n",
      "Time Period:  2016-08-30 00:00:00 ~ 2016-08-31 00:00:00\n",
      "Time Period:  2016-08-31 00:00:00 ~ 2016-09-01 00:00:00\n",
      "Time Period:  2016-09-01 00:00:00 ~ 2016-09-02 00:00:00\n",
      "Time Period:  2016-09-02 00:00:00 ~ 2016-09-03 00:00:00\n",
      "Time Period:  2016-09-03 00:00:00 ~ 2016-09-04 00:00:00\n",
      "Time Period:  2016-09-04 00:00:00 ~ 2016-09-05 00:00:00\n",
      "Time Period:  2016-09-05 00:00:00 ~ 2016-09-06 00:00:00\n",
      "Time Period:  2016-09-06 00:00:00 ~ 2016-09-07 00:00:00\n",
      "Time Period:  2016-09-07 00:00:00 ~ 2016-09-08 00:00:00\n",
      "Time Period:  2016-09-08 00:00:00 ~ 2016-09-09 00:00:00\n",
      "Time Period:  2016-09-09 00:00:00 ~ 2016-09-10 00:00:00\n",
      "Time Period:  2016-09-10 00:00:00 ~ 2016-09-11 00:00:00\n",
      "Time Period:  2016-09-11 00:00:00 ~ 2016-09-12 00:00:00\n",
      "Time Period:  2016-09-12 00:00:00 ~ 2016-09-13 00:00:00\n",
      "Time Period:  2016-09-13 00:00:00 ~ 2016-09-14 00:00:00\n",
      "Time Period:  2016-09-14 00:00:00 ~ 2016-09-15 00:00:00\n",
      "Time Period:  2016-09-15 00:00:00 ~ 2016-09-16 00:00:00\n",
      "Time Period:  2016-09-16 00:00:00 ~ 2016-09-17 00:00:00\n",
      "Time Period:  2016-09-17 00:00:00 ~ 2016-09-18 00:00:00\n",
      "Time Period:  2016-09-18 00:00:00 ~ 2016-09-19 00:00:00\n",
      "Time Period:  2016-09-19 00:00:00 ~ 2016-09-20 00:00:00\n",
      "Time Period:  2016-09-20 00:00:00 ~ 2016-09-21 00:00:00\n",
      "Time Period:  2016-09-21 00:00:00 ~ 2016-09-22 00:00:00\n",
      "Time Period:  2016-09-22 00:00:00 ~ 2016-09-23 00:00:00\n",
      "Time Period:  2016-09-23 00:00:00 ~ 2016-09-24 00:00:00\n",
      "Time Period:  2016-09-24 00:00:00 ~ 2016-09-25 00:00:00\n",
      "Time Period:  2016-09-25 00:00:00 ~ 2016-09-26 00:00:00\n",
      "Time Period:  2016-09-26 00:00:00 ~ 2016-09-27 00:00:00\n",
      "Time Period:  2016-09-27 00:00:00 ~ 2016-09-28 00:00:00\n",
      "Time Period:  2016-09-28 00:00:00 ~ 2016-09-29 00:00:00\n",
      "Time Period:  2016-09-29 00:00:00 ~ 2016-09-30 00:00:00\n",
      "Time Period:  2016-09-30 00:00:00 ~ 2016-10-01 00:00:00\n",
      "Time Period:  2016-10-01 00:00:00 ~ 2016-10-02 00:00:00\n",
      "Time Period:  2016-10-02 00:00:00 ~ 2016-10-03 00:00:00\n",
      "Time Period:  2016-10-03 00:00:00 ~ 2016-10-04 00:00:00\n",
      "Time Period:  2016-10-04 00:00:00 ~ 2016-10-05 00:00:00\n",
      "Time Period:  2016-10-05 00:00:00 ~ 2016-10-06 00:00:00\n",
      "Time Period:  2016-10-06 00:00:00 ~ 2016-10-07 00:00:00\n",
      "Time Period:  2016-10-07 00:00:00 ~ 2016-10-08 00:00:00\n"
     ]
    },
    {
     "name": "stderr",
     "output_type": "stream",
     "text": [
      "/Library/Frameworks/Python.framework/Versions/2.7/lib/python2.7/site-packages/sklearn/neural_network/multilayer_perceptron.py:565: UserWarning:\n",
      "\n",
      "Training interrupted by user.\n",
      "\n"
     ]
    },
    {
     "name": "stdout",
     "output_type": "stream",
     "text": [
      "Time Period:  2016-10-08 00:00:00 ~ 2016-10-09 00:00:00\n",
      "Time Period:  2016-10-09 00:00:00 ~ 2016-10-10 00:00:00\n"
     ]
    }
   ],
   "source": [
    "start_time = time.time()\n",
    "\n",
    "DateStart = '2016-06-01 00:00:00'\n",
    "DateEnd = '2016-12-31 00:00:00'\n",
    "TrainStart = data[data.datetime.values == '2016-01-01 00:00:00'].index[0]\n",
    "regs = ['RT', 'LR', 'MLP']\n",
    "now = datetime.datetime.strptime(DateStart, timeformat)\n",
    "lastday =datetime.datetime.strptime(DateEnd, timeformat)\n",
    "\n",
    "delta = datetime.timedelta(days=1)\n",
    "\n",
    "while now < lastday:\n",
    "    \n",
    "    ## new iteration, train new model.\n",
    "    y_start = now.strftime(\"%Y-%m-%d %H:%M:%S\")\n",
    "    now += delta\n",
    "    y_end = now.strftime(\"%Y-%m-%d %H:%M:%S\")\n",
    "    print 'Time Period: ', y_start, '~', y_end\n",
    "    \n",
    "    start = data[data.datetime.values == y_start].index[0]\n",
    "    end = data[data.datetime.values == y_end].index[0]\n",
    "    \n",
    "    train = data[TrainStart:start].dropna()\n",
    "    test = data[start:end]\n",
    "    \n",
    "    X_train, y_train = train[features], train[target]\n",
    "    X_test, y_test = test[features], test[target]\n",
    "\n",
    "    y_predict = dict()\n",
    "    ## Regression Tree\n",
    "    RT = AdaBoostRegressor(DecisionTreeRegressor())\n",
    "    RT.fit(X_train, y_train)\n",
    "    '''\n",
    "    zipped = sorted(zip(features, RT.feature_importances_), key = lambda imp: imp[1])\n",
    "    print 'Feature : Importances'\n",
    "    for f, imp in zipped:\n",
    "        print f, ':', imp\n",
    "    '''\n",
    "    imps = pd.DataFrame(dict(list(zip(features, RT.feature_importances_))), index=[0])\n",
    "    importances = pd.concat([importances, imps], axis=0, ignore_index=True)\n",
    "\n",
    "    y_predict['RT'] = RT.predict(X_test)\n",
    "\n",
    "    ## Linear Regression\n",
    "    LR = linear_model.LinearRegression()\n",
    "    LR.fit(X_train, y_train)\n",
    "    '''\n",
    "    zipped = sorted(zip(features, LR.coef_), key = lambda coef: coef[1])\n",
    "    print 'Feature : Coefficients'\n",
    "    for f, coef in zipped:\n",
    "        print f, ':', coef\n",
    "    '''\n",
    "    coefs = pd.DataFrame(dict(list(zip(features, LR.coef_))), index=[0])\n",
    "    coefficients = pd.concat([coefficients, coefs], axis=0, ignore_index=True)\n",
    "    \n",
    "    y_predict['LR'] = LR.predict(X_test)\n",
    "\n",
    "    ## MLP Regression\n",
    "    MLP = neural_network.MLPRegressor(activation='relu')\n",
    "    MLP.fit(X_train, y_train)\n",
    "    '''print 'Model: \\n', MLP'''\n",
    "\n",
    "    y_predict['MLP'] = MLP.predict(X_test) \n",
    "    \n",
    "    ## Measure\n",
    "    predict['datetime'].extend(test.datetime.tolist())\n",
    "    rmse['datetime'].append(y_start)\n",
    "    \n",
    "    \n",
    "    for method in regs:\n",
    "        predict[method].extend(y_predict[method].tolist())\n",
    "        rmse[method].append(sqrt(mean_squared_error(y_predict[method], y_test)))\n",
    "    \n",
    "    ## end\n",
    "end_time = time.time()\n",
    "print \"Time consume: \", end_time - start_time, ' s.'"
   ]
  },
  {
   "cell_type": "code",
   "execution_count": null,
   "metadata": {
    "collapsed": true,
    "scrolled": false
   },
   "outputs": [],
   "source": [
    "df_prdict = pd.DataFrame(predict)\n",
    "df_rmse = pd.DataFrame(rmse)\n",
    "\n",
    "real = data[data[data.datetime.values == DateStart].index[0] \n",
    "     : data[data.datetime.values == DateEnd].index[0]]['PM2.5'].tolist()"
   ]
  },
  {
   "cell_type": "markdown",
   "metadata": {},
   "source": [
    "# Measure"
   ]
  },
  {
   "cell_type": "code",
   "execution_count": null,
   "metadata": {},
   "outputs": [],
   "source": [
    "for reg in regs:\n",
    "    plt.plot(df_prdict[reg], colors[reg], label = reg)\n",
    "\n",
    "plt.plot(real, colors['Real'], label = 'real')\n",
    "plt.legend(loc='upper left')\n",
    "plt.show()"
   ]
  },
  {
   "cell_type": "code",
   "execution_count": null,
   "metadata": {},
   "outputs": [],
   "source": [
    "for reg in regs:\n",
    "    plt.plot(df_rmse[reg], colors[reg], label=reg)\n",
    "plt.legend(loc='upper left')\n",
    "plt.show()"
   ]
  },
  {
   "cell_type": "markdown",
   "metadata": {},
   "source": [
    "# Plot"
   ]
  },
  {
   "cell_type": "code",
   "execution_count": null,
   "metadata": {},
   "outputs": [],
   "source": [
    "plt.rcParams['figure.figsize'] = [16.0, 6.0]\n",
    "fig = plt.figure()\n",
    "ax = fig.add_subplot(111)\n",
    "ax.title.set_text(target)\n",
    "# Turn off axis lines and ticks of the big subplot\n",
    "ax.spines['top'].set_color('none')\n",
    "ax.spines['bottom'].set_color('none')\n",
    "ax.spines['left'].set_color('none')\n",
    "ax.spines['right'].set_color('none')\n",
    "ax.tick_params(labelcolor='w', top='off', bottom='off', left='off', right='off')\n",
    "ax.set_xlabel('Predict')\n",
    "ax.set_ylabel('Real')\n",
    "\n",
    "subplot = {'RT':131, 'LR':132, 'MLP':133}\n",
    "for reg in regs:\n",
    "    sub_ax = fig.add_subplot(subplot[reg])\n",
    "    sub_ax.plot(df_prdict[reg], real, colors[reg] + '.', label=reg)\n",
    "    \n",
    "    a, b = 0, max(max(real), 24)\n",
    "    mrange = 5 * sqrt(2)\n",
    "    sub_ax.plot([a, b], [a, b], 'b-')\n",
    "    sub_ax.plot([a, b - 3], [a+mrange, b+mrange -3], 'r--')\n",
    "    sub_ax.plot([a + 3, b], [a-mrange + 3, b-mrange], 'r--')\n",
    "    \n",
    "plt.legend(loc='upper left')\n",
    "plt.tight_layout()\n",
    "plt.show()"
   ]
  },
  {
   "cell_type": "markdown",
   "metadata": {
    "collapsed": true
   },
   "source": [
    "# Output"
   ]
  },
  {
   "cell_type": "code",
   "execution_count": null,
   "metadata": {
    "scrolled": true
   },
   "outputs": [],
   "source": [
    "importances"
   ]
  },
  {
   "cell_type": "code",
   "execution_count": null,
   "metadata": {
    "scrolled": true
   },
   "outputs": [],
   "source": [
    "coefficients"
   ]
  },
  {
   "cell_type": "code",
   "execution_count": null,
   "metadata": {
    "collapsed": true
   },
   "outputs": [],
   "source": [
    "df_rmse"
   ]
  },
  {
   "cell_type": "code",
   "execution_count": null,
   "metadata": {
    "collapsed": true
   },
   "outputs": [],
   "source": [
    "importances.to_csv('../output/RT_importances.csv', index=False)"
   ]
  },
  {
   "cell_type": "code",
   "execution_count": null,
   "metadata": {
    "collapsed": true
   },
   "outputs": [],
   "source": [
    "coefficients.to_csv('../output/LR_coefficients.csv', index=False)"
   ]
  },
  {
   "cell_type": "code",
   "execution_count": null,
   "metadata": {
    "collapsed": true
   },
   "outputs": [],
   "source": [
    "df_rmse.to_csv('../output/rmse.csv', index=False)"
   ]
  }
 ],
 "metadata": {
  "kernelspec": {
   "display_name": "Python 2",
   "language": "python",
   "name": "python2"
  },
  "language_info": {
   "codemirror_mode": {
    "name": "ipython",
    "version": 2
   },
   "file_extension": ".py",
   "mimetype": "text/x-python",
   "name": "python",
   "nbconvert_exporter": "python",
   "pygments_lexer": "ipython2",
   "version": "2.7.13"
  }
 },
 "nbformat": 4,
 "nbformat_minor": 2
}
