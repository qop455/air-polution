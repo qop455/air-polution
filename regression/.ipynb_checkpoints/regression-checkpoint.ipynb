{
 "cells": [
  {
   "cell_type": "raw",
   "metadata": {},
   "source": [
    "2017-06-08"
   ]
  },
  {
   "cell_type": "markdown",
   "metadata": {},
   "source": [
    "# Library"
   ]
  },
  {
   "cell_type": "code",
   "execution_count": null,
   "metadata": {
    "collapsed": true
   },
   "outputs": [],
   "source": [
    "%matplotlib inline\n",
    "from sklearn import neural_network\n",
    "from sklearn import linear_model\n",
    "from sklearn.preprocessing import StandardScaler\n",
    "from sklearn.tree import DecisionTreeRegressor\n",
    "from sklearn.ensemble import AdaBoostRegressor\n",
    "\n",
    "import pandas as pd\n",
    "import numpy as np\n",
    "\n",
    "import matplotlib.pyplot as plt\n",
    "import plotly.plotly as py\n",
    "from sklearn.metrics import mean_squared_error\n",
    "from math import sqrt"
   ]
  },
  {
   "cell_type": "markdown",
   "metadata": {},
   "source": [
    "# Global"
   ]
  },
  {
   "cell_type": "code",
   "execution_count": null,
   "metadata": {
    "collapsed": true
   },
   "outputs": [],
   "source": [
    "predict = dict()"
   ]
  },
  {
   "cell_type": "markdown",
   "metadata": {},
   "source": [
    "# Function"
   ]
  },
  {
   "cell_type": "code",
   "execution_count": null,
   "metadata": {
    "collapsed": true
   },
   "outputs": [],
   "source": []
  },
  {
   "cell_type": "markdown",
   "metadata": {},
   "source": [
    "# Data preprocess"
   ]
  },
  {
   "cell_type": "code",
   "execution_count": null,
   "metadata": {},
   "outputs": [],
   "source": [
    "date_feature = pd.read_csv(\"../data/date_feature.csv\", parse_dates=True)\n",
    "time_series = pd.read_csv(\"../data/pm2.5_timeseries.csv\", parse_dates=True)\n",
    "meteorology = pd.read_csv(\"../data/Erlin.csv\", parse_dates=True)"
   ]
  },
  {
   "cell_type": "code",
   "execution_count": null,
   "metadata": {},
   "outputs": [],
   "source": [
    "time_series = time_series[[column for column in time_series.columns if column not in ['datetime']]]\n",
    "time_series = time_series[['t-3', 't-2', 't-1']]\n",
    "meteorology = meteorology[['AMB_TEMP', 'RAINFALL', 'RH', 'WIND_SPEED', 'PM2.5']]"
   ]
  },
  {
   "cell_type": "code",
   "execution_count": null,
   "metadata": {},
   "outputs": [],
   "source": [
    "data = pd.concat([meteorology, time_series, date_feature], axis=1)\n",
    "data.head()"
   ]
  },
  {
   "cell_type": "code",
   "execution_count": null,
   "metadata": {},
   "outputs": [],
   "source": [
    "start = data[data.datetime.values == \"2016-06-01 00:00:00\"].index[0]\n",
    "end = data[data.datetime.values == \"2016-12-31 23:00:00\"].index[0]"
   ]
  },
  {
   "cell_type": "code",
   "execution_count": null,
   "metadata": {},
   "outputs": [],
   "source": [
    "train = data[:start].dropna()\n",
    "#train = pd.concat([data[:start], data[end:]], axis=0).dropna()\n",
    "test = data[start:end]"
   ]
  },
  {
   "cell_type": "code",
   "execution_count": null,
   "metadata": {},
   "outputs": [],
   "source": [
    "exclude = ['datetime', 'PM2.5']\n",
    "features = [f for f in data.columns if f not in exclude]\n",
    "\n",
    "print features"
   ]
  },
  {
   "cell_type": "code",
   "execution_count": null,
   "metadata": {
    "collapsed": true
   },
   "outputs": [],
   "source": [
    "target = \"PM2.5\"\n",
    "\n",
    "X_train, y_train = train[features], train[target]\n",
    "X_test, y_test = test[features], test[target]"
   ]
  },
  {
   "cell_type": "markdown",
   "metadata": {},
   "source": [
    "# Regression Tree"
   ]
  },
  {
   "cell_type": "code",
   "execution_count": null,
   "metadata": {
    "scrolled": true
   },
   "outputs": [],
   "source": [
    "RT = AdaBoostRegressor(DecisionTreeRegressor())\n",
    "RT.fit(X_train, y_train)\n",
    "zipped = sorted(zip(features, RT.feature_importances_), key = lambda imp: imp[1])\n",
    "print 'Feature : Importances'\n",
    "for f, imp in zipped:\n",
    "    print f, ':', imp\n",
    "\n",
    "predict[\"RT\"] = RT.predict(X_test)"
   ]
  },
  {
   "cell_type": "markdown",
   "metadata": {},
   "source": [
    "# Linear Regression"
   ]
  },
  {
   "cell_type": "code",
   "execution_count": null,
   "metadata": {
    "scrolled": true
   },
   "outputs": [],
   "source": [
    "LR = linear_model.LinearRegression()\n",
    "LR.fit(X_train, y_train)\n",
    "zipped = sorted(zip(features, LR.coef_), key = lambda coef: coef[1])\n",
    "print 'Feature : Coefficients'\n",
    "for f, coef in zipped:\n",
    "    print f, ':', coef\n",
    "\n",
    "predict[\"LR\"] = LR.predict(X_test)"
   ]
  },
  {
   "cell_type": "markdown",
   "metadata": {},
   "source": [
    "# MLP Regression"
   ]
  },
  {
   "cell_type": "code",
   "execution_count": null,
   "metadata": {},
   "outputs": [],
   "source": [
    "MLP = neural_network.MLPRegressor(activation='relu')\n",
    "MLP.fit(X_train, y_train)\n",
    "print 'Model: \\n', MLP\n",
    "\n",
    "predict[\"MLP\"] = MLP.predict(X_test)"
   ]
  },
  {
   "cell_type": "markdown",
   "metadata": {},
   "source": [
    "# Plot"
   ]
  },
  {
   "cell_type": "code",
   "execution_count": null,
   "metadata": {},
   "outputs": [],
   "source": [
    "plt.rcParams['figure.figsize'] = [16.0, 8.0]\n",
    "colors = {'MLP':'C3', 'RT':'C2', 'LR':'C1', 'Real':'C0'}\n",
    "\n",
    "fig = plt.figure()\n",
    "ax = fig.add_subplot(111)\n",
    "ax.title.set_text(target)\n",
    "# Turn off axis lines and ticks of the big subplot\n",
    "ax.spines['top'].set_color('none')\n",
    "ax.spines['bottom'].set_color('none')\n",
    "ax.spines['left'].set_color('none')\n",
    "ax.spines['right'].set_color('none')\n",
    "ax.tick_params(labelcolor='w', top='off', bottom='off', left='off', right='off')\n",
    "ax.set_xlabel('Index')\n",
    "ax.set_ylabel('Value')\n",
    "\n",
    "ax1 = fig.add_subplot(221)\n",
    "ax1.plot(predict['RT'], colors['RT'], label = 'RT')\n",
    "ax1.plot(y_test.tolist(), colors['Real'], label = 'Real')\n",
    "plt.legend(loc='upper left')\n",
    "\n",
    "ax2 = fig.add_subplot(222)\n",
    "ax2.plot(predict['LR'], colors['LR'], label = 'LR')\n",
    "ax2.plot(y_test.tolist(), colors['Real'], label = 'Real')\n",
    "plt.legend(loc='upper left')\n",
    "\n",
    "ax3 = fig.add_subplot(223)\n",
    "ax3.plot(predict[\"MLP\"], colors['MLP'], label = 'MLP')\n",
    "ax3.plot(y_test.tolist(), colors['Real'], label = 'Real')\n",
    "plt.legend(loc='upper left')\n",
    "\n",
    "ax4 = fig.add_subplot(224)\n",
    "for key, value in predict.iteritems():\n",
    "    ax4.plot(value, colors[key], label=key)\n",
    "ax4.plot(y_test.tolist(), colors['Real'], label = 'Real')\n",
    "plt.legend(loc='upper left')\n",
    "plt.tight_layout()\n",
    "plt.show()"
   ]
  },
  {
   "cell_type": "code",
   "execution_count": null,
   "metadata": {
    "scrolled": false
   },
   "outputs": [],
   "source": [
    "plt.rcParams['figure.figsize'] = [16.0, 8.0]\n",
    "plt.xlabel('Predict')\n",
    "plt.ylabel('Real')\n",
    "\n",
    "for key, value in predict.iteritems():\n",
    "    plt.plot(value, y_test.tolist(), colors[key] + '.', label=key)\n",
    "    \n",
    "plt.legend(loc='upper left')\n",
    "a, b = 0, max(max(y_test.tolist()), 24)\n",
    "mrange = 5 * sqrt(2)\n",
    "plt.plot([a, b], [a, b], 'b-')\n",
    "plt.plot([a, b - 3], [a+mrange, b+mrange -3], 'r--')\n",
    "plt.plot([a + 3, b], [a-mrange + 3, b-mrange], 'r--')\n",
    "plt.show()"
   ]
  },
  {
   "cell_type": "markdown",
   "metadata": {},
   "source": [
    "# Measure"
   ]
  },
  {
   "cell_type": "code",
   "execution_count": null,
   "metadata": {},
   "outputs": [],
   "source": [
    "for key, value in predict.iteritems():\n",
    "    print(\"'%s' mean squared error: %.6f\"\n",
    "          % (key, sqrt(mean_squared_error(value, y_test))))"
   ]
  },
  {
   "cell_type": "code",
   "execution_count": null,
   "metadata": {
    "collapsed": true
   },
   "outputs": [],
   "source": []
  }
 ],
 "metadata": {
  "kernelspec": {
   "display_name": "Python 2",
   "language": "python",
   "name": "python2"
  },
  "language_info": {
   "codemirror_mode": {
    "name": "ipython",
    "version": 2
   },
   "file_extension": ".py",
   "mimetype": "text/x-python",
   "name": "python",
   "nbconvert_exporter": "python",
   "pygments_lexer": "ipython2",
   "version": "2.7.13"
  }
 },
 "nbformat": 4,
 "nbformat_minor": 2
}
