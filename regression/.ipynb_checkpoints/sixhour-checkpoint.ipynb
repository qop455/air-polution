{
 "cells": [
  {
   "cell_type": "code",
   "execution_count": 1,
   "metadata": {
    "collapsed": true
   },
   "outputs": [],
   "source": [
    "%matplotlib inline\n",
    "\n",
    "import datetime\n",
    "import pandas as pd\n",
    "import numpy as np\n",
    "import matplotlib.pyplot as plt\n",
    "import plotly.plotly as py\n",
    "import time\n",
    "import math\n",
    "\n",
    "from sklearn import neural_network\n",
    "from sklearn import linear_model\n",
    "from sklearn.linear_model import LinearRegression\n",
    "from sklearn.ensemble import GradientBoostingRegressor\n",
    "from sklearn.model_selection import GridSearchCV\n",
    "from sklearn.preprocessing import MinMaxScaler\n",
    "\n",
    "from sklearn.metrics import mean_squared_error\n",
    "from math import sqrt\n",
    "\n",
    "timeformat = \"%Y-%m-%d %H:%M:%S\"\n",
    "\n",
    "data = pd.read_csv(\"../data/ensemble.csv\")\n",
    "data = data.rename(columns={\"EL_PM25\":\"PM25\"})\n",
    "data = data[[\"datetime\", \"PM25\"]]"
   ]
  },
  {
   "cell_type": "markdown",
   "metadata": {},
   "source": [
    "# Preprocessing"
   ]
  },
  {
   "cell_type": "code",
   "execution_count": 2,
   "metadata": {
    "collapsed": true
   },
   "outputs": [],
   "source": [
    "l, n = 12, 6\n",
    "for i in range(l):\n",
    "    data['last_' + str(i+1)] = data['PM25'].shift(1+i)\n",
    "for i in range(n):\n",
    "    data['next_' + str(i+1)] = data['PM25'].shift(-(1+i))"
   ]
  },
  {
   "cell_type": "markdown",
   "metadata": {},
   "source": [
    "# Select feature"
   ]
  },
  {
   "cell_type": "code",
   "execution_count": 3,
   "metadata": {
    "collapsed": true
   },
   "outputs": [],
   "source": [
    "PM25 = [\"PM25\"]\n",
    "exclude_cols = ['datetime']\n",
    "last_cols = [f for f in data.columns.tolist() if 'last_' in f]\n",
    "next_cols = [f for f in data.columns.tolist() if 'next_' in f]"
   ]
  },
  {
   "cell_type": "markdown",
   "metadata": {},
   "source": [
    "# Train & Test Split"
   ]
  },
  {
   "cell_type": "code",
   "execution_count": 4,
   "metadata": {
    "collapsed": true
   },
   "outputs": [],
   "source": [
    "def train_test_split(dataframe):\n",
    "    start = dataframe[data.datetime.values == '2016-01-01 00:00:00'].index[0]\n",
    "    datatrain = dataframe[:start]\n",
    "    datatest = dataframe[start:]\n",
    "    feature_cols = exclude_cols + PM25 + last_cols + next_cols\n",
    "    train = datatrain[feature_cols].dropna().reset_index(drop=True)\n",
    "    test = datatest[feature_cols].dropna().reset_index(drop=True)\n",
    "    X_train, X_test = train[PM25 + last_cols], test[PM25 + last_cols]\n",
    "    return train, test"
   ]
  },
  {
   "cell_type": "code",
   "execution_count": 13,
   "metadata": {},
   "outputs": [
    {
     "name": "stdout",
     "output_type": "stream",
     "text": [
      "A Model:\n",
      "PM25, last_1, last_2, last_3, last_4, last_5, last_6, last_7, last_8, last_9, last_10, last_11, last_12\n"
     ]
    }
   ],
   "source": [
    "train, test = train_test_split(data)\n",
    "X_train, X_test = train[PM25 + last_cols], test[PM25 + last_cols]\n",
    "print(\"A Model:\\n\" + \", \".join(X_train.columns.tolist()))"
   ]
  },
  {
   "cell_type": "markdown",
   "metadata": {},
   "source": [
    "# Rolling Windows Model"
   ]
  },
  {
   "cell_type": "code",
   "execution_count": 7,
   "metadata": {},
   "outputs": [
    {
     "name": "stdout",
     "output_type": "stream",
     "text": [
      "(1)rmse: 4.795987\n",
      "(2)rmse: 7.302040\n",
      "(3)rmse: 9.856806\n",
      "(4)rmse: 11.027088\n",
      "(5)rmse: 11.940712\n",
      "(6)rmse: 12.629907\n"
     ]
    }
   ],
   "source": [
    "# n model for n period\n",
    "for i in range(n):\n",
    "    MLP = neural_network.MLPRegressor()\n",
    "    MLP.fit(X_train, train[\"next_\" + str(i+1)])\n",
    "    X_preds = MLP.predict(X_test)\n",
    "    X_test = pd.concat([pd.DataFrame({\"pred_\" + str(i+1):X_preds}), X_test], axis=1)\n",
    "    X_rmse = sqrt(mean_squared_error(X_test[\"pred_\" + str(i+1)], test[\"next_\" + str(i+1)]))\n",
    "    print(\"(%d)rmse: %f\"%(i+1, round(X_rmse, 6)))\n",
    "    X_preds = MLP.predict(X_train)\n",
    "    X_train = pd.concat([pd.DataFrame({\"pred_\" + str(i+1):X_preds}), X_train], axis=1)\n"
   ]
  },
  {
   "cell_type": "code",
   "execution_count": 14,
   "metadata": {},
   "outputs": [
    {
     "name": "stdout",
     "output_type": "stream",
     "text": [
      "(1)rmse: 4.611968\n",
      "(2)rmse: 7.254649\n",
      "(3)rmse: 9.849585\n",
      "(4)rmse: 10.889289\n",
      "(5)rmse: 11.705743\n",
      "(6)rmse: 12.790247\n"
     ]
    }
   ],
   "source": [
    "# n model for n period and fix window size\n",
    "for i in range(n):\n",
    "    MLP = neural_network.MLPRegressor()\n",
    "    MLP.fit(X_train.iloc[:,range(13)], train[\"next_\" + str(i+1)])\n",
    "    X_preds = MLP.predict(X_test.iloc[:,range(13)])\n",
    "    X_test = pd.concat([pd.DataFrame({\"pred_\" + str(i+1):X_preds}), X_test], axis=1)\n",
    "    X_rmse = sqrt(mean_squared_error(X_test[\"pred_\" + str(i+1)], test[\"next_\" + str(i+1)]))\n",
    "    print(\"(%d)rmse: %f\"%(i+1, round(X_rmse, 6)))\n",
    "    X_preds = MLP.predict(X_train.iloc[:,range(13)])\n",
    "    X_train = pd.concat([pd.DataFrame({\"pred_\" + str(i+1):X_preds}), X_train], axis=1)\n"
   ]
  },
  {
   "cell_type": "code",
   "execution_count": 11,
   "metadata": {},
   "outputs": [
    {
     "name": "stdout",
     "output_type": "stream",
     "text": [
      "(1)rmse: 4.612061\n",
      "(2)rmse: 7.282343\n",
      "(3)rmse: 9.918710\n",
      "(4)rmse: 10.916303\n",
      "(5)rmse: 11.757900\n",
      "(6)rmse: 12.426239\n"
     ]
    }
   ],
   "source": [
    "# one model\n",
    "MLP = neural_network.MLPRegressor()\n",
    "MLP.fit(X_train, train[\"next_1\"])\n",
    "for i in range(n):\n",
    "    X_preds = MLP.predict(X_test)\n",
    "    X_test = pd.concat([pd.DataFrame({\"pred_\" + str(i+1):X_preds}), X_test.iloc[:,range(12)]], axis=1)\n",
    "    X_rmse = sqrt(mean_squared_error(X_test[\"pred_\" + str(i+1)], test[\"next_\" + str(i+1)]))\n",
    "    print(\"(%d)rmse: %f\"%(i+1, round(X_rmse, 6)))\n",
    "    X_preds = MLP.predict(X_train.iloc[:,range(13)])\n",
    "    X_train = pd.concat([pd.DataFrame({\"pred_\" + str(i+1):X_preds}), X_train.iloc[:,range(12)]], axis=1)\n"
   ]
  },
  {
   "cell_type": "markdown",
   "metadata": {},
   "source": [
    "# Base Line"
   ]
  },
  {
   "cell_type": "code",
   "execution_count": 14,
   "metadata": {},
   "outputs": [
    {
     "name": "stdout",
     "output_type": "stream",
     "text": [
      "(1) 5.322251\n",
      "(2) 8.134082\n",
      "(3) 10.587502\n",
      "(4) 11.870946\n",
      "(5) 12.970277\n",
      "(6) 13.854983\n"
     ]
    }
   ],
   "source": [
    "# Persistence Model\n",
    "P_list = X_test[\"PM25\"]\n",
    "for i in range(n):\n",
    "    P_rmse = sqrt(mean_squared_error(P_list, test['next_' + str(i+1)]))\n",
    "    print(\"(%d) %f\"%(i+1, round(P_rmse, 6)))"
   ]
  },
  {
   "cell_type": "code",
   "execution_count": 13,
   "metadata": {},
   "outputs": [
    {
     "name": "stdout",
     "output_type": "stream",
     "text": [
      "(1) 4.651569\n",
      "(2) 7.378138\n",
      "(3) 10.091023\n",
      "(4) 11.188847\n",
      "(5) 12.104289\n",
      "(6) 12.819113\n"
     ]
    }
   ],
   "source": [
    "# Linear Model\n",
    "import warnings\n",
    "warnings.filterwarnings(action=\"ignore\", module=\"scipy\", message=\"^internal gelsd\")\n",
    "for i in range(n):\n",
    "    L = LinearRegression()\n",
    "    L.fit(X_train, train['next_' + str(i+1)])\n",
    "    L_list = L.predict(X_test)\n",
    "    L_rmse = sqrt(mean_squared_error(L_list, test['next_' + str(i+1)]))\n",
    "    print(\"(%d) %f\"%(i+1, round(L_rmse, 6)))"
   ]
  },
  {
   "cell_type": "code",
   "execution_count": 15,
   "metadata": {},
   "outputs": [
    {
     "name": "stdout",
     "output_type": "stream",
     "text": [
      "(1) 4.779626\n",
      "(2) 7.487975\n",
      "(3) 10.017315\n",
      "(4) 11.064553\n",
      "(5) 11.896663\n",
      "(6) 12.701233\n"
     ]
    }
   ],
   "source": [
    "# MLP Model\n",
    "for i in range(n):\n",
    "    M_rmse_list = list()\n",
    "    for _ in range(10):\n",
    "        M = neural_network.MLPRegressor()\n",
    "        M.fit(X_train, train['next_' + str(i+1)])\n",
    "        M_list = M.predict(X_test)\n",
    "        M_rmse = sqrt(mean_squared_error(M_list, test['next_' + str(i+1)]))\n",
    "        M_rmse_list.append(M_rmse)\n",
    "    print(\"(%d) %f\"%(i+1, round(sum(M_rmse_list)/len(M_rmse_list), 6)))"
   ]
  }
 ],
 "metadata": {
  "kernelspec": {
   "display_name": "Python 3",
   "language": "python",
   "name": "python3"
  },
  "language_info": {
   "codemirror_mode": {
    "name": "ipython",
    "version": 3
   },
   "file_extension": ".py",
   "mimetype": "text/x-python",
   "name": "python",
   "nbconvert_exporter": "python",
   "pygments_lexer": "ipython3",
   "version": "3.6.2"
  }
 },
 "nbformat": 4,
 "nbformat_minor": 2
}
