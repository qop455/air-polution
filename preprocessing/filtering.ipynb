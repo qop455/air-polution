{
 "cells": [
  {
   "cell_type": "code",
   "execution_count": 1,
   "metadata": {
    "collapsed": true
   },
   "outputs": [],
   "source": [
    "import pandas as pd\n",
    "import numpy as np"
   ]
  },
  {
   "cell_type": "code",
   "execution_count": 2,
   "metadata": {
    "collapsed": true
   },
   "outputs": [],
   "source": [
    "for i in range(11):\n",
    "    df = pd.read_csv(\"../data/central_reg/reshaped/%d.csv\"%(i+1), index_col=\"datetime\")\n",
    "\n",
    "    for column in df.columns.tolist():\n",
    "        df[column][df[column].str.contains(\"[*#x]\") == True] = np.nan\n",
    "\n",
    "    df = df.apply(pd.to_numeric, errors='ignore', downcast='float')\n",
    "\n",
    "    mask = (df < 0)\n",
    "    df = df.where(~mask, np.nan)\n",
    "\n",
    "    df.to_csv(\"../data/central_reg/filted/%d.csv\"%(i+1), index_label=\"datetime\")"
   ]
  },
  {
   "cell_type": "code",
   "execution_count": null,
   "metadata": {
    "collapsed": true
   },
   "outputs": [],
   "source": []
  }
 ],
 "metadata": {
  "anaconda-cloud": {},
  "kernelspec": {
   "display_name": "Python 3",
   "language": "python",
   "name": "python3"
  },
  "language_info": {
   "codemirror_mode": {
    "name": "ipython",
    "version": 3
   },
   "file_extension": ".py",
   "mimetype": "text/x-python",
   "name": "python",
   "nbconvert_exporter": "python",
   "pygments_lexer": "ipython3",
   "version": "3.6.2"
  }
 },
 "nbformat": 4,
 "nbformat_minor": 1
}
