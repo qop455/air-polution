{
 "cells": [
  {
   "cell_type": "code",
   "execution_count": 1,
   "metadata": {
    "collapsed": true
   },
   "outputs": [],
   "source": [
    "from datetime import datetime\n",
    "import pandas as pd\n",
    "import numpy as np\n",
    "timeformat = \"%Y-%m-%d %H:%M:%S\""
   ]
  },
  {
   "cell_type": "code",
   "execution_count": 2,
   "metadata": {
    "collapsed": true
   },
   "outputs": [],
   "source": [
    "inputfile = \"../data/ensemble.csv\"\n",
    "data = pd.read_csv(inputfile)\n",
    "df = pd.DataFrame(index=[\"hour\", \"month\"])"
   ]
  },
  {
   "cell_type": "code",
   "execution_count": 3,
   "metadata": {
    "collapsed": true,
    "scrolled": true
   },
   "outputs": [],
   "source": [
    "for index, item in data.datetime.iteritems():\n",
    "    time = datetime.strptime(item, timeformat)\n",
    "    df.set_value(index, 'hour', time.hour)\n",
    "    df.set_value(index, 'month', time.month)"
   ]
  },
  {
   "cell_type": "code",
   "execution_count": 4,
   "metadata": {
    "collapsed": true
   },
   "outputs": [],
   "source": [
    "time_dummies = pd.get_dummies(df[\"hour\"]).rename(columns = lambda x:\"h_\" + str(int(x)))\n",
    "month_dummies = pd.get_dummies(df[\"month\"]).rename(columns = lambda x: \"m_\" + str(int(x)))"
   ]
  },
  {
   "cell_type": "code",
   "execution_count": 5,
   "metadata": {
    "collapsed": true
   },
   "outputs": [],
   "source": [
    "df = pd.concat([df, time_dummies], axis=1)\n",
    "df = pd.concat([df, month_dummies], axis=1)"
   ]
  },
  {
   "cell_type": "code",
   "execution_count": 6,
   "metadata": {
    "collapsed": true
   },
   "outputs": [],
   "source": [
    "df.drop([\"hour\", \"month\"], inplace=True, axis=1)"
   ]
  },
  {
   "cell_type": "code",
   "execution_count": 7,
   "metadata": {},
   "outputs": [
    {
     "name": "stdout",
     "output_type": "stream",
     "text": [
      "<class 'pandas.core.frame.DataFrame'>\n",
      "Index: 87674 entries, hour to 87671\n",
      "Data columns (total 36 columns):\n",
      "h_0     87674 non-null uint8\n",
      "h_1     87674 non-null uint8\n",
      "h_2     87674 non-null uint8\n",
      "h_3     87674 non-null uint8\n",
      "h_4     87674 non-null uint8\n",
      "h_5     87674 non-null uint8\n",
      "h_6     87674 non-null uint8\n",
      "h_7     87674 non-null uint8\n",
      "h_8     87674 non-null uint8\n",
      "h_9     87674 non-null uint8\n",
      "h_10    87674 non-null uint8\n",
      "h_11    87674 non-null uint8\n",
      "h_12    87674 non-null uint8\n",
      "h_13    87674 non-null uint8\n",
      "h_14    87674 non-null uint8\n",
      "h_15    87674 non-null uint8\n",
      "h_16    87674 non-null uint8\n",
      "h_17    87674 non-null uint8\n",
      "h_18    87674 non-null uint8\n",
      "h_19    87674 non-null uint8\n",
      "h_20    87674 non-null uint8\n",
      "h_21    87674 non-null uint8\n",
      "h_22    87674 non-null uint8\n",
      "h_23    87674 non-null uint8\n",
      "m_1     87674 non-null uint8\n",
      "m_2     87674 non-null uint8\n",
      "m_3     87674 non-null uint8\n",
      "m_4     87674 non-null uint8\n",
      "m_5     87674 non-null uint8\n",
      "m_6     87674 non-null uint8\n",
      "m_7     87674 non-null uint8\n",
      "m_8     87674 non-null uint8\n",
      "m_9     87674 non-null uint8\n",
      "m_10    87674 non-null uint8\n",
      "m_11    87674 non-null uint8\n",
      "m_12    87674 non-null uint8\n",
      "dtypes: uint8(36)\n",
      "memory usage: 6.2+ MB\n"
     ]
    }
   ],
   "source": [
    "df.info()"
   ]
  },
  {
   "cell_type": "code",
   "execution_count": 8,
   "metadata": {
    "collapsed": true
   },
   "outputs": [],
   "source": [
    "df.to_csv(\"../data/date.csv\", index=False)"
   ]
  },
  {
   "cell_type": "code",
   "execution_count": null,
   "metadata": {
    "collapsed": true
   },
   "outputs": [],
   "source": []
  }
 ],
 "metadata": {
  "kernelspec": {
   "display_name": "Python 3",
   "language": "python",
   "name": "python3"
  },
  "language_info": {
   "codemirror_mode": {
    "name": "ipython",
    "version": 3
   },
   "file_extension": ".py",
   "mimetype": "text/x-python",
   "name": "python",
   "nbconvert_exporter": "python",
   "pygments_lexer": "ipython3",
   "version": "3.6.2"
  }
 },
 "nbformat": 4,
 "nbformat_minor": 2
}
