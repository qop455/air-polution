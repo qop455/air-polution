{
 "cells": [
  {
   "cell_type": "code",
   "execution_count": null,
   "metadata": {
    "collapsed": true
   },
   "outputs": [],
   "source": [
    "import pandas as pd\n",
    "import datetime\n",
    "import os.path\n",
    "HOUR_PER_DAY = 24"
   ]
  },
  {
   "cell_type": "code",
   "execution_count": null,
   "metadata": {
    "collapsed": true
   },
   "outputs": [],
   "source": [
    "def _hourly_pivot(df, hour):\n",
    "    strColumn = \"{:02d}\".format(hour)\n",
    "    df_result = df.pivot(index=\"日期\", columns=\"測項\", values=strColumn)\n",
    "    df_result.index = df_result.index + datetime.timedelta(hours=hour)\n",
    "    return df_result"
   ]
  },
  {
   "cell_type": "code",
   "execution_count": null,
   "metadata": {
    "scrolled": true
   },
   "outputs": [],
   "source": [
    "for i in range(11):\n",
    "    frames = list()\n",
    "    for j in range(96, 106):\n",
    "        if os.path.isfile(\"../data/central_reg/\" + str(i+1) + \"/\" + str(j) + \".csv\"):\n",
    "            df = pd.read_csv(\"../data/central_reg/\" + str(i+1) + \"/\" + str(j) + \".csv\", parse_dates=[0],\n",
    "                             date_parser = pd.core.tools.datetimes.to_datetime, encoding=\"big5\")\n",
    "        elif os.path.isfile(\"../data/central_reg/\" + str(i+1) + \"/\" + str(j) + \".xls\"):\n",
    "            df = pd.read_excel(\"../data/central_reg/\" + str(i+1) + \"/\" + str(j) + \".xls\", parse_dates=[u\"日期\"])\n",
    "        else:\n",
    "            pass\n",
    "            \n",
    "        df.columns = ['日期','測站','測項', '00', '01', '02', '03', '04', '05', '06', '07', '08', '09',\n",
    "                      '10', '11', '12', '13', '14', '15', '16', '17', '18', '19', '20', '21', '22', '23']\n",
    "        \n",
    "        df = df.replace(\"NR\", 0.0)\n",
    "        df = pd.concat([_hourly_pivot(df, hour) for hour in range(HOUR_PER_DAY)])\n",
    "        df.index.name = \"datetime\"\n",
    "        df = df.sort_index()\n",
    "        frames.append(df)\n",
    "        \n",
    "    my_output = \"../data/central_reg/\" + str(i+1) + \".csv\"\n",
    "    dataframe = pd.concat(frames)\n",
    "    columns = dataframe.columns.tolist()\n",
    "    features = ['PM2.5', 'AMB_TEMP', 'RH', 'RAINFALL', 'WIND_DIREC', 'WIND_SPEED', \n",
    "                'PM10', 'NO', 'NO2', 'NOx', 'O3', 'CO', 'SO2']\n",
    "    dataframe = dataframe[features]\n",
    "    dataframe = dataframe.sort_index()\n",
    "    dataframe = dataframe.rename(columns={\"PM2.5\":\"PM25\", \"AMB_TEMP\":\"TEMP\", \"WIND_SPEED\":\"WS\", \"WIND_DIREC\":\"WD\", \"RAINFALL\":\"RAIN\"})\n",
    "    dataframe.to_csv(my_output)\n",
    "    "
   ]
  },
  {
   "cell_type": "code",
   "execution_count": null,
   "metadata": {
    "collapsed": true
   },
   "outputs": [],
   "source": []
  }
 ],
 "metadata": {
  "anaconda-cloud": {},
  "kernelspec": {
   "display_name": "Python 3",
   "language": "python",
   "name": "python3"
  },
  "language_info": {
   "codemirror_mode": {
    "name": "ipython",
    "version": 3
   },
   "file_extension": ".py",
   "mimetype": "text/x-python",
   "name": "python",
   "nbconvert_exporter": "python",
   "pygments_lexer": "ipython3",
   "version": "3.6.2"
  }
 },
 "nbformat": 4,
 "nbformat_minor": 1
}
