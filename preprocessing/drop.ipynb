{
 "cells": [
  {
   "cell_type": "code",
   "execution_count": 1,
   "metadata": {
    "collapsed": true
   },
   "outputs": [],
   "source": [
    "import pandas as pd"
   ]
  },
  {
   "cell_type": "code",
   "execution_count": 2,
   "metadata": {
    "collapsed": true
   },
   "outputs": [],
   "source": [
    "inputfile = \"../data/filted_to_nan.csv\"\n",
    "data = pd.read_csv(inputfile)\n",
    "data = data[[\"AMB_TEMP\", \"RAINFALL\", \"RH\", \"WIND_SPEED\", \"WIND_DIREC\", \"PM2.5\", \"datetime\"]]"
   ]
  },
  {
   "cell_type": "code",
   "execution_count": 3,
   "metadata": {},
   "outputs": [
    {
     "name": "stdout",
     "output_type": "stream",
     "text": [
      "<class 'pandas.core.frame.DataFrame'>\n",
      "RangeIndex: 87672 entries, 0 to 87671\n",
      "Data columns (total 7 columns):\n",
      "AMB_TEMP      87040 non-null float64\n",
      "RAINFALL      86856 non-null float64\n",
      "RH            86424 non-null float64\n",
      "WIND_SPEED    87061 non-null float64\n",
      "WIND_DIREC    87060 non-null float64\n",
      "PM2.5         83705 non-null float64\n",
      "datetime      87672 non-null object\n",
      "dtypes: float64(6), object(1)\n",
      "memory usage: 4.7+ MB\n"
     ]
    }
   ],
   "source": [
    "data.info()"
   ]
  },
  {
   "cell_type": "code",
   "execution_count": 4,
   "metadata": {},
   "outputs": [
    {
     "name": "stdout",
     "output_type": "stream",
     "text": [
      "<class 'pandas.core.frame.DataFrame'>\n",
      "Int64Index: 82674 entries, 0 to 87671\n",
      "Data columns (total 7 columns):\n",
      "AMB_TEMP      82674 non-null float64\n",
      "RAINFALL      82674 non-null float64\n",
      "RH            82674 non-null float64\n",
      "WIND_SPEED    82674 non-null float64\n",
      "WIND_DIREC    82674 non-null float64\n",
      "PM2.5         82674 non-null float64\n",
      "datetime      82674 non-null object\n",
      "dtypes: float64(6), object(1)\n",
      "memory usage: 5.0+ MB\n"
     ]
    }
   ],
   "source": [
    "data[~pd.isnull(data).any(axis=1)].info()"
   ]
  },
  {
   "cell_type": "code",
   "execution_count": 5,
   "metadata": {
    "collapsed": true
   },
   "outputs": [],
   "source": [
    "new = data[~pd.isnull(data).any(axis=1)]"
   ]
  },
  {
   "cell_type": "code",
   "execution_count": 6,
   "metadata": {
    "collapsed": true
   },
   "outputs": [],
   "source": [
    "new.to_csv(\"../data/dropna/dropna.csv\", index=False)"
   ]
  },
  {
   "cell_type": "code",
   "execution_count": null,
   "metadata": {
    "collapsed": true
   },
   "outputs": [],
   "source": []
  }
 ],
 "metadata": {
  "kernelspec": {
   "display_name": "Python 3",
   "language": "python",
   "name": "python3"
  },
  "language_info": {
   "codemirror_mode": {
    "name": "ipython",
    "version": 3
   },
   "file_extension": ".py",
   "mimetype": "text/x-python",
   "name": "python",
   "nbconvert_exporter": "python",
   "pygments_lexer": "ipython3",
   "version": "3.6.2"
  }
 },
 "nbformat": 4,
 "nbformat_minor": 2
}
