{
 "cells": [
  {
   "cell_type": "raw",
   "metadata": {},
   "source": [
    "#impute nan cell by interpolation method"
   ]
  },
  {
   "cell_type": "code",
   "execution_count": 1,
   "metadata": {
    "collapsed": true
   },
   "outputs": [],
   "source": [
    "import pandas as pd\n",
    "import matplotlib.pyplot as plt\n",
    "import numpy as np\n",
    "from scipy.interpolate import interp1d"
   ]
  },
  {
   "cell_type": "code",
   "execution_count": 2,
   "metadata": {
    "collapsed": true
   },
   "outputs": [],
   "source": [
    "inputfile = \"../data/filted_to_nan.csv\"\n",
    "\n",
    "df = pd.read_csv(inputfile, parse_dates=True)"
   ]
  },
  {
   "cell_type": "code",
   "execution_count": 3,
   "metadata": {
    "collapsed": true
   },
   "outputs": [],
   "source": [
    "columns = [column for column in df.columns if column not in ['datetime']]\n",
    "\n",
    "start = df.index.min()\n",
    "end = df.index.max()\n",
    "size = len(df)\n",
    "axis_x = np.linspace(start, end, num = size)\n",
    "\n",
    "#plt.rcParams['figure.figsize'] = [16.0, 8.0]\n",
    "#plt.figure()\n",
    "#plt.xlabel('Hours')\n",
    "#plt.ylabel('Value')\n",
    "\n",
    "#for column in columns:\n",
    "#    plt_df = df[~df[column].isnull()]\n",
    "#    plt.plot(plt_df[column])\n",
    "\n",
    "#plt.show()\n",
    "\n",
    "df.loc[start] = df.loc[start].fillna(0)\n",
    "df.loc[end] = df.loc[end].fillna(0)\n",
    "\n",
    "#plt.figure()\n",
    "#plt.xlabel('Hours')\n",
    "#plt.ylabel('Value')"
   ]
  },
  {
   "cell_type": "code",
   "execution_count": 4,
   "metadata": {},
   "outputs": [
    {
     "name": "stderr",
     "output_type": "stream",
     "text": [
      "/Library/Frameworks/Python.framework/Versions/2.7/lib/python2.7/site-packages/pandas/core/indexing.py:179: SettingWithCopyWarning: \n",
      "A value is trying to be set on a copy of a slice from a DataFrame\n",
      "\n",
      "See the caveats in the documentation: http://pandas.pydata.org/pandas-docs/stable/indexing.html#indexing-view-versus-copy\n",
      "  self._setitem_with_indexer(indexer, value)\n"
     ]
    }
   ],
   "source": [
    "for column in columns:\n",
    "    adj_df = df[~df[column].isnull()]\n",
    "    interp_linear = interp1d(adj_df.index, adj_df[column], kind='linear')\n",
    "    interp_df = interp_linear(axis_x)\n",
    "\n",
    "    nans = df[df[column].isnull()]\n",
    "    for index, row in nans.iterrows():\n",
    "        df[column].loc[index] = interp_df[index]\n",
    "\n",
    "    #plt.plot(axis_x, interp_df)\n",
    "\n",
    "#plt.show()"
   ]
  },
  {
   "cell_type": "code",
   "execution_count": 5,
   "metadata": {
    "collapsed": true
   },
   "outputs": [],
   "source": [
    "df.to_csv(\"../data/interpolated.csv\", index=False)"
   ]
  },
  {
   "cell_type": "code",
   "execution_count": null,
   "metadata": {
    "collapsed": true
   },
   "outputs": [],
   "source": []
  }
 ],
 "metadata": {
  "kernelspec": {
   "display_name": "Python 3",
   "language": "python",
   "name": "python3"
  },
  "language_info": {
   "codemirror_mode": {
    "name": "ipython",
    "version": 3
   },
   "file_extension": ".py",
   "mimetype": "text/x-python",
   "name": "python",
   "nbconvert_exporter": "python",
   "pygments_lexer": "ipython3",
   "version": "3.6.2"
  }
 },
 "nbformat": 4,
 "nbformat_minor": 2
}
