{
 "cells": [
  {
   "cell_type": "code",
   "execution_count": 1,
   "metadata": {
    "collapsed": true
   },
   "outputs": [],
   "source": [
    "import math"
   ]
  },
  {
   "cell_type": "code",
   "execution_count": 2,
   "metadata": {
    "collapsed": true
   },
   "outputs": [],
   "source": [
    "def to_angle(angle):\n",
    "    return (angle*math.pi)/180.0"
   ]
  },
  {
   "cell_type": "code",
   "execution_count": 6,
   "metadata": {},
   "outputs": [
    {
     "name": "stdout",
     "output_type": "stream",
     "text": [
      "-360 -6.28318530718 1.0\n",
      "-315 -5.49778714378 0.707106781187\n",
      "-270 -4.71238898038 -1.83697019872e-16\n",
      "-225 -3.92699081699 -0.707106781187\n",
      "-180 -3.14159265359 -1.0\n",
      "-135 -2.35619449019 -0.707106781187\n",
      "-90 -1.57079632679 6.12323399574e-17\n",
      "-45 -0.785398163397 0.707106781187\n",
      "0 0.0 1.0\n",
      "45 0.785398163397 0.707106781187\n",
      "90 1.57079632679 6.12323399574e-17\n",
      "135 2.35619449019 -0.707106781187\n",
      "180 3.14159265359 -1.0\n",
      "225 3.92699081699 -0.707106781187\n",
      "270 4.71238898038 -1.83697019872e-16\n",
      "315 5.49778714378 0.707106781187\n"
     ]
    }
   ],
   "source": [
    "for i in range(-360,360,45):\n",
    "    print i, to_angle(i), math.cos(to_angle(i))"
   ]
  },
  {
   "cell_type": "code",
   "execution_count": 7,
   "metadata": {
    "collapsed": true
   },
   "outputs": [],
   "source": [
    "def wind(cell, angle):\n",
    "    cell = ((cell + 180) - angle)\n",
    "    return math.cos(to_angle(cell))"
   ]
  },
  {
   "cell_type": "code",
   "execution_count": 8,
   "metadata": {},
   "outputs": [
    {
     "name": "stdout",
     "output_type": "stream",
     "text": [
      "-360 3.06161699787e-16\n",
      "-315 0.707106781187\n",
      "-270 1.0\n",
      "-225 0.707106781187\n",
      "-180 -1.83697019872e-16\n",
      "-135 -0.707106781187\n",
      "-90 -1.0\n",
      "-45 -0.707106781187\n",
      "0 6.12323399574e-17\n",
      "45 0.707106781187\n",
      "90 1.0\n",
      "135 0.707106781187\n",
      "180 6.12323399574e-17\n",
      "225 -0.707106781187\n",
      "270 -1.0\n",
      "315 -0.707106781187\n"
     ]
    }
   ],
   "source": [
    "for i in range(-360,360,45):\n",
    "    print i, wind(i, 270)"
   ]
  }
 ],
 "metadata": {
  "kernelspec": {
   "display_name": "Python 2",
   "language": "python",
   "name": "python2"
  },
  "language_info": {
   "codemirror_mode": {
    "name": "ipython",
    "version": 2
   },
   "file_extension": ".py",
   "mimetype": "text/x-python",
   "name": "python",
   "nbconvert_exporter": "python",
   "pygments_lexer": "ipython2",
   "version": "2.7.13"
  }
 },
 "nbformat": 4,
 "nbformat_minor": 2
}
