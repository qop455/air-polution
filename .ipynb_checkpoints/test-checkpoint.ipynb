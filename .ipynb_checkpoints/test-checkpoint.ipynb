{
 "cells": [
  {
   "cell_type": "code",
   "execution_count": 1,
   "metadata": {},
   "outputs": [],
   "source": [
    "import pandas as pd\n",
    "data = pd.read_csv(\"data/Erlin_minmax.csv\")\n",
    "data = data[[\"AMB_TEMP\", \"RH\", \"RAINFALL\", \"WIND_SPEED\"]]\n",
    "describe = data.describe()"
   ]
  },
  {
   "cell_type": "code",
   "execution_count": 2,
   "metadata": {},
   "outputs": [
    {
     "data": {
      "text/html": [
       "<div>\n",
       "<style>\n",
       "    .dataframe thead tr:only-child th {\n",
       "        text-align: right;\n",
       "    }\n",
       "\n",
       "    .dataframe thead th {\n",
       "        text-align: left;\n",
       "    }\n",
       "\n",
       "    .dataframe tbody tr th {\n",
       "        vertical-align: top;\n",
       "    }\n",
       "</style>\n",
       "<table border=\"1\" class=\"dataframe\">\n",
       "  <thead>\n",
       "    <tr style=\"text-align: right;\">\n",
       "      <th></th>\n",
       "      <th>AMB_TEMP</th>\n",
       "      <th>RH</th>\n",
       "      <th>RAINFALL</th>\n",
       "      <th>WIND_SPEED</th>\n",
       "    </tr>\n",
       "  </thead>\n",
       "  <tbody>\n",
       "    <tr>\n",
       "      <th>count</th>\n",
       "      <td>87672.000000</td>\n",
       "      <td>87672.000000</td>\n",
       "      <td>87672.000000</td>\n",
       "      <td>87672.000000</td>\n",
       "    </tr>\n",
       "    <tr>\n",
       "      <th>mean</th>\n",
       "      <td>0.616637</td>\n",
       "      <td>0.762357</td>\n",
       "      <td>0.002069</td>\n",
       "      <td>0.175623</td>\n",
       "    </tr>\n",
       "    <tr>\n",
       "      <th>std</th>\n",
       "      <td>0.156375</td>\n",
       "      <td>0.110541</td>\n",
       "      <td>0.018966</td>\n",
       "      <td>0.111883</td>\n",
       "    </tr>\n",
       "    <tr>\n",
       "      <th>min</th>\n",
       "      <td>0.000000</td>\n",
       "      <td>0.000000</td>\n",
       "      <td>0.000000</td>\n",
       "      <td>0.000000</td>\n",
       "    </tr>\n",
       "    <tr>\n",
       "      <th>25%</th>\n",
       "      <td>0.499178</td>\n",
       "      <td>0.684509</td>\n",
       "      <td>0.000000</td>\n",
       "      <td>0.087161</td>\n",
       "    </tr>\n",
       "    <tr>\n",
       "      <th>50%</th>\n",
       "      <td>0.643836</td>\n",
       "      <td>0.781059</td>\n",
       "      <td>0.000000</td>\n",
       "      <td>0.151943</td>\n",
       "    </tr>\n",
       "    <tr>\n",
       "      <th>75%</th>\n",
       "      <td>0.726027</td>\n",
       "      <td>0.849835</td>\n",
       "      <td>0.000000</td>\n",
       "      <td>0.242638</td>\n",
       "    </tr>\n",
       "    <tr>\n",
       "      <th>max</th>\n",
       "      <td>1.000000</td>\n",
       "      <td>1.000000</td>\n",
       "      <td>1.000000</td>\n",
       "      <td>1.000000</td>\n",
       "    </tr>\n",
       "  </tbody>\n",
       "</table>\n",
       "</div>"
      ],
      "text/plain": [
       "           AMB_TEMP            RH      RAINFALL    WIND_SPEED\n",
       "count  87672.000000  87672.000000  87672.000000  87672.000000\n",
       "mean       0.616637      0.762357      0.002069      0.175623\n",
       "std        0.156375      0.110541      0.018966      0.111883\n",
       "min        0.000000      0.000000      0.000000      0.000000\n",
       "25%        0.499178      0.684509      0.000000      0.087161\n",
       "50%        0.643836      0.781059      0.000000      0.151943\n",
       "75%        0.726027      0.849835      0.000000      0.242638\n",
       "max        1.000000      1.000000      1.000000      1.000000"
      ]
     },
     "execution_count": 2,
     "metadata": {},
     "output_type": "execute_result"
    }
   ],
   "source": [
    "describe"
   ]
  },
  {
   "cell_type": "code",
   "execution_count": null,
   "metadata": {
    "collapsed": true
   },
   "outputs": [],
   "source": [
    "describe.to_csv('output/minmax_describe.csv')"
   ]
  }
 ],
 "metadata": {
  "kernelspec": {
   "display_name": "Python 2",
   "language": "python",
   "name": "python2"
  },
  "language_info": {
   "codemirror_mode": {
    "name": "ipython",
    "version": 2
   },
   "file_extension": ".py",
   "mimetype": "text/x-python",
   "name": "python",
   "nbconvert_exporter": "python",
   "pygments_lexer": "ipython2",
   "version": "2.7.13"
  }
 },
 "nbformat": 4,
 "nbformat_minor": 2
}
