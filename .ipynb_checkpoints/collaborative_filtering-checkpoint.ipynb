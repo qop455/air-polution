{
 "cells": [
  {
   "cell_type": "code",
   "execution_count": 11,
   "metadata": {
    "collapsed": true
   },
   "outputs": [],
   "source": [
    "import pandas as pd\n",
    "import numpy as np\n",
    "import scipy.spatial\n",
    "import math\n",
    "import time\n",
    "from math import sqrt"
   ]
  },
  {
   "cell_type": "code",
   "execution_count": 17,
   "metadata": {
    "collapsed": true
   },
   "outputs": [],
   "source": [
    "data = pd.read_csv(\"data/fillna_zeros.csv\")\n",
    "data = data[:100]\n",
    "feature = [f for f in data.columns if f not in ['datetime']]\n",
    "data = data[feature]\n",
    "row_num = len(data)\n",
    "col_num = len(feature)"
   ]
  },
  {
   "cell_type": "code",
   "execution_count": 22,
   "metadata": {
    "collapsed": false
   },
   "outputs": [
    {
     "name": "stdout",
     "output_type": "stream",
     "text": [
      "It costs  2.04200005531  s.\n"
     ]
    }
   ],
   "source": [
    "similarity = np.zeros((row_num, row_num))\n",
    "start = time.time()\n",
    "for t1 in range(row_num):\n",
    "    if np.count_nonzero(data.loc[t1]):\n",
    "        for t2 in range(t1):\n",
    "             if np.count_nonzero(data.loc[t2]):\n",
    "                    similarity[t1][t2] = 1 - scipy.spatial.distance.cosine(data.loc[t1], data.loc[t2])\n",
    "\n",
    "end = time.time()\n",
    "print \"It costs \", end - start, \" s.\""
   ]
  },
  {
   "cell_type": "code",
   "execution_count": 23,
   "metadata": {
    "collapsed": false
   },
   "outputs": [
    {
     "data": {
      "text/plain": [
       "array([[ 0.        ,  0.        ,  0.        , ...,  0.        ,\n",
       "         0.        ,  0.        ],\n",
       "       [ 0.99811362,  0.        ,  0.        , ...,  0.        ,\n",
       "         0.        ,  0.        ],\n",
       "       [ 0.99623891,  0.99738635,  0.        , ...,  0.        ,\n",
       "         0.        ,  0.        ],\n",
       "       ..., \n",
       "       [ 0.53158246,  0.52998217,  0.53780905, ...,  0.        ,\n",
       "         0.        ,  0.        ],\n",
       "       [ 0.59512854,  0.59068922,  0.56098313, ...,  0.75710793,\n",
       "         0.        ,  0.        ],\n",
       "       [ 0.53640188,  0.53482988,  0.5394073 , ...,  0.99607492,\n",
       "         0.79995416,  0.        ]])"
      ]
     },
     "execution_count": 23,
     "metadata": {},
     "output_type": "execute_result"
    }
   ],
   "source": [
    "similarity"
   ]
  },
  {
   "cell_type": "code",
   "execution_count": null,
   "metadata": {
    "collapsed": true
   },
   "outputs": [],
   "source": []
  }
 ],
 "metadata": {
  "kernelspec": {
   "display_name": "Python 2",
   "language": "python",
   "name": "python2"
  },
  "language_info": {
   "codemirror_mode": {
    "name": "ipython",
    "version": 2
   },
   "file_extension": ".py",
   "mimetype": "text/x-python",
   "name": "python",
   "nbconvert_exporter": "python",
   "pygments_lexer": "ipython2",
   "version": "2.7.13"
  }
 },
 "nbformat": 4,
 "nbformat_minor": 2
}
