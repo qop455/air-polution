{
 "cells": [
  {
   "cell_type": "code",
   "execution_count": null,
   "metadata": {
    "collapsed": true
   },
   "outputs": [],
   "source": [
    "#version 1.0"
   ]
  },
  {
   "cell_type": "code",
   "execution_count": 1,
   "metadata": {
    "collapsed": true
   },
   "outputs": [],
   "source": [
    "import pandas as pd\n",
    "import numpy as np"
   ]
  },
  {
   "cell_type": "code",
   "execution_count": 2,
   "metadata": {},
   "outputs": [
    {
     "name": "stdout",
     "output_type": "stream",
     "text": [
      "<class 'pandas.core.frame.DataFrame'>\n",
      "Int64Index: 76 entries, 662 to 7886\n",
      "Data columns (total 16 columns):\n",
      "datetime      76 non-null object\n",
      "AMB_TEMP      46 non-null object\n",
      "CO            46 non-null object\n",
      "NO            44 non-null object\n",
      "NO2           30 non-null object\n",
      "NOx           44 non-null object\n",
      "O3            46 non-null object\n",
      "PM10          23 non-null object\n",
      "PM2.5         42 non-null object\n",
      "RAINFALL      46 non-null object\n",
      "RH            46 non-null object\n",
      "SO2           24 non-null object\n",
      "WD_HR         46 non-null object\n",
      "WIND_DIREC    46 non-null object\n",
      "WIND_SPEED    46 non-null object\n",
      "WS_HR         46 non-null object\n",
      "dtypes: object(16)\n",
      "memory usage: 10.1+ KB\n"
     ]
    }
   ],
   "source": [
    "df = pd.read_csv(\"data/reshaped.csv\", parse_dates=True)\n",
    "if 'station' in df.columns:\n",
    "    df = df.drop('station',1)\n",
    "    \n",
    "columns = df.columns.tolist()\n",
    "nan_rows = df[df.isnull().T.any()]\n",
    "nan_rows.info()"
   ]
  },
  {
   "cell_type": "code",
   "execution_count": 3,
   "metadata": {
    "collapsed": true,
    "scrolled": true
   },
   "outputs": [],
   "source": [
    "for column in columns:\n",
    "    df[column][df[column].str.contains(\"[*#x]\") == True] = np.nan"
   ]
  },
  {
   "cell_type": "code",
   "execution_count": 4,
   "metadata": {
    "collapsed": true
   },
   "outputs": [],
   "source": [
    "df = df.apply(pd.to_numeric, errors='ignore', downcast='float')"
   ]
  },
  {
   "cell_type": "code",
   "execution_count": 5,
   "metadata": {},
   "outputs": [
    {
     "name": "stdout",
     "output_type": "stream",
     "text": [
      "<class 'pandas.core.frame.DataFrame'>\n",
      "Int64Index: 979 entries, 49 to 8680\n",
      "Data columns (total 16 columns):\n",
      "datetime      979 non-null object\n",
      "AMB_TEMP      937 non-null float32\n",
      "CO            880 non-null float32\n",
      "NO            800 non-null float32\n",
      "NO2           800 non-null float32\n",
      "NOx           800 non-null float32\n",
      "O3            880 non-null float32\n",
      "PM10          786 non-null float32\n",
      "PM2.5         265 non-null float32\n",
      "RAINFALL      919 non-null float32\n",
      "RH            938 non-null float32\n",
      "SO2           817 non-null float32\n",
      "WD_HR         920 non-null float32\n",
      "WIND_DIREC    931 non-null float32\n",
      "WIND_SPEED    932 non-null float32\n",
      "WS_HR         921 non-null float32\n",
      "dtypes: float32(15), object(1)\n",
      "memory usage: 72.7+ KB\n"
     ]
    }
   ],
   "source": [
    "nan_rows = df[df.isnull().T.any()]\n",
    "nan_rows.info()"
   ]
  },
  {
   "cell_type": "code",
   "execution_count": 7,
   "metadata": {},
   "outputs": [],
   "source": [
    "mask = (df < 0)\n",
    "df = df.where(~mask, np.nan)\n",
    "nan_rows = df[df.isnull().T.any()]"
   ]
  },
  {
   "cell_type": "code",
   "execution_count": 8,
   "metadata": {},
   "outputs": [
    {
     "name": "stdout",
     "output_type": "stream",
     "text": [
      "<class 'pandas.core.frame.DataFrame'>\n",
      "Int64Index: 1048 entries, 0 to 8680\n",
      "Data columns (total 16 columns):\n",
      "datetime      1048 non-null object\n",
      "AMB_TEMP      1006 non-null float32\n",
      "CO            949 non-null float32\n",
      "NO            816 non-null float32\n",
      "NO2           855 non-null float32\n",
      "NOx           867 non-null float32\n",
      "O3            949 non-null float32\n",
      "PM10          855 non-null float32\n",
      "PM2.5         334 non-null float32\n",
      "RAINFALL      988 non-null float32\n",
      "RH            1007 non-null float32\n",
      "SO2           881 non-null float32\n",
      "WD_HR         989 non-null float32\n",
      "WIND_DIREC    1000 non-null float32\n",
      "WIND_SPEED    1001 non-null float32\n",
      "WS_HR         990 non-null float32\n",
      "dtypes: float32(15), object(1)\n",
      "memory usage: 77.8+ KB\n"
     ]
    }
   ],
   "source": [
    "nan_rows = df[df.isnull().T.any()]\n",
    "nan_rows.info()"
   ]
  },
  {
   "cell_type": "code",
   "execution_count": 9,
   "metadata": {
    "collapsed": true
   },
   "outputs": [],
   "source": [
    "df.to_csv(\"data/filted_to_nan.csv\", index=False)"
   ]
  },
  {
   "cell_type": "code",
   "execution_count": null,
   "metadata": {
    "collapsed": true
   },
   "outputs": [],
   "source": []
  }
 ],
 "metadata": {
  "anaconda-cloud": {},
  "kernelspec": {
   "display_name": "Python 2",
   "language": "python",
   "name": "python2"
  },
  "language_info": {
   "codemirror_mode": {
    "name": "ipython",
    "version": 2
   },
   "file_extension": ".py",
   "mimetype": "text/x-python",
   "name": "python",
   "nbconvert_exporter": "python",
   "pygments_lexer": "ipython2",
   "version": "2.7.13"
  }
 },
 "nbformat": 4,
 "nbformat_minor": 1
}
