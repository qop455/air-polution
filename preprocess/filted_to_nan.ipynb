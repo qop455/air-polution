{
 "cells": [
  {
   "cell_type": "code",
   "execution_count": 1,
   "metadata": {
    "collapsed": true
   },
   "outputs": [],
   "source": [
    "#version 1.0"
   ]
  },
  {
   "cell_type": "code",
   "execution_count": 2,
   "metadata": {
    "collapsed": true
   },
   "outputs": [],
   "source": [
    "import pandas as pd\n",
    "import numpy as np"
   ]
  },
  {
   "cell_type": "code",
   "execution_count": 3,
   "metadata": {
    "collapsed": true
   },
   "outputs": [],
   "source": [
    "df = pd.read_csv(\"../data/many/lite.csv\", parse_dates=True)"
   ]
  },
  {
   "cell_type": "code",
   "execution_count": 4,
   "metadata": {
    "scrolled": true
   },
   "outputs": [
    {
     "name": "stdout",
     "output_type": "stream",
     "text": [
      "<class 'pandas.core.frame.DataFrame'>\n",
      "Int64Index: 4953 entries, 38 to 43847\n",
      "Data columns (total 37 columns):\n",
      "datetime        4953 non-null object\n",
      "target          4382 non-null object\n",
      "ELAMB_TEMP      4748 non-null object\n",
      "ELRAINFALL      4745 non-null object\n",
      "ELRH            4746 non-null object\n",
      "DLPM2.5         4412 non-null object\n",
      "LBPM2.5         4336 non-null object\n",
      "CHPM2.5         4503 non-null object\n",
      "MLPM2.5         4277 non-null object\n",
      "SSPM2.5         4216 non-null object\n",
      "TSPM2.5         4168 non-null object\n",
      "NTPM2.5         4183 non-null object\n",
      "ELPM2.5         4383 non-null object\n",
      "DLPM10          4461 non-null object\n",
      "LBPM10          4322 non-null object\n",
      "CHPM10          4486 non-null object\n",
      "MLPM10          4167 non-null object\n",
      "SSPM10          4218 non-null object\n",
      "TSPM10          4113 non-null object\n",
      "NTPM10          4277 non-null object\n",
      "ELPM10          4369 non-null object\n",
      "DLWIND_DIREC    4842 non-null object\n",
      "LBWIND_DIREC    4661 non-null object\n",
      "CHWIND_DIREC    4880 non-null object\n",
      "MLWIND_DIREC    4795 non-null object\n",
      "SSWIND_DIREC    4725 non-null object\n",
      "TSWIND_DIREC    4688 non-null object\n",
      "NTWIND_DIREC    4848 non-null object\n",
      "ELWIND_DIREC    4742 non-null object\n",
      "DLWIND_SPEED    4843 non-null object\n",
      "LBWIND_SPEED    4660 non-null object\n",
      "CHWIND_SPEED    4879 non-null object\n",
      "MLWIND_SPEED    4796 non-null object\n",
      "SSWIND_SPEED    4718 non-null object\n",
      "TSWIND_SPEED    4692 non-null object\n",
      "NTWIND_SPEED    4847 non-null object\n",
      "ELWIND_SPEED    4742 non-null object\n",
      "dtypes: object(37)\n",
      "memory usage: 1.4+ MB\n"
     ]
    }
   ],
   "source": [
    "if 'station' in df.columns:\n",
    "    df = df.drop('station',1)\n",
    "\n",
    "columns = df.columns.tolist()\n",
    "nan_rows = df[df.isnull().T.any()]\n",
    "nan_rows.info()"
   ]
  },
  {
   "cell_type": "code",
   "execution_count": 5,
   "metadata": {},
   "outputs": [
    {
     "name": "stdout",
     "output_type": "stream",
     "text": [
      "<class 'pandas.core.frame.DataFrame'>\n",
      "Int64Index: 14016 entries, 0 to 43847\n",
      "Data columns (total 37 columns):\n",
      "datetime        14016 non-null object\n",
      "target          11876 non-null float32\n",
      "ELAMB_TEMP      13714 non-null float32\n",
      "ELRAINFALL      13619 non-null float32\n",
      "ELRH            13639 non-null float32\n",
      "DLPM2.5         12666 non-null float32\n",
      "LBPM2.5         11176 non-null float32\n",
      "CHPM2.5         12625 non-null float32\n",
      "MLPM2.5         12909 non-null float32\n",
      "SSPM2.5         12895 non-null float32\n",
      "TSPM2.5         12791 non-null float32\n",
      "NTPM2.5         12674 non-null float32\n",
      "ELPM2.5         11877 non-null float32\n",
      "DLPM10          12890 non-null float32\n",
      "LBPM10          12234 non-null float32\n",
      "CHPM10          13002 non-null float32\n",
      "MLPM10          12612 non-null float32\n",
      "SSPM10          12923 non-null float32\n",
      "TSPM10          12750 non-null float32\n",
      "NTPM10          13038 non-null float32\n",
      "ELPM10          12784 non-null float32\n",
      "DLWIND_DIREC    13846 non-null float32\n",
      "LBWIND_DIREC    13608 non-null float32\n",
      "CHWIND_DIREC    13799 non-null float32\n",
      "MLWIND_DIREC    13697 non-null float32\n",
      "SSWIND_DIREC    13696 non-null float32\n",
      "TSWIND_DIREC    13467 non-null float32\n",
      "NTWIND_DIREC    13822 non-null float32\n",
      "ELWIND_DIREC    13715 non-null float32\n",
      "DLWIND_SPEED    13850 non-null float32\n",
      "LBWIND_SPEED    13606 non-null float32\n",
      "CHWIND_SPEED    13887 non-null float32\n",
      "MLWIND_SPEED    13728 non-null float32\n",
      "SSWIND_SPEED    13501 non-null float32\n",
      "TSWIND_SPEED    13358 non-null float32\n",
      "NTWIND_SPEED    13823 non-null float32\n",
      "ELWIND_SPEED    13715 non-null float32\n",
      "dtypes: float32(36), object(1)\n",
      "memory usage: 2.1+ MB\n"
     ]
    }
   ],
   "source": [
    "for column in columns:\n",
    "    df[column][df[column].str.contains(\"[*#x]\") == True] = np.nan\n",
    "\n",
    "df = df.apply(pd.to_numeric, errors='ignore', downcast='float')\n",
    "\n",
    "nan_rows = df[df.isnull().T.any()]\n",
    "nan_rows.info()"
   ]
  },
  {
   "cell_type": "code",
   "execution_count": 6,
   "metadata": {},
   "outputs": [
    {
     "name": "stdout",
     "output_type": "stream",
     "text": [
      "<class 'pandas.core.frame.DataFrame'>\n",
      "Int64Index: 14019 entries, 0 to 43847\n",
      "Data columns (total 37 columns):\n",
      "datetime        14019 non-null object\n",
      "target          11879 non-null float32\n",
      "ELAMB_TEMP      13717 non-null float32\n",
      "ELRAINFALL      13622 non-null float32\n",
      "ELRH            13642 non-null float32\n",
      "DLPM2.5         12667 non-null float32\n",
      "LBPM2.5         11179 non-null float32\n",
      "CHPM2.5         12626 non-null float32\n",
      "MLPM2.5         12912 non-null float32\n",
      "SSPM2.5         12898 non-null float32\n",
      "TSPM2.5         12794 non-null float32\n",
      "NTPM2.5         12677 non-null float32\n",
      "ELPM2.5         11880 non-null float32\n",
      "DLPM10          12893 non-null float32\n",
      "LBPM10          12237 non-null float32\n",
      "CHPM10          13005 non-null float32\n",
      "MLPM10          12615 non-null float32\n",
      "SSPM10          12926 non-null float32\n",
      "TSPM10          12753 non-null float32\n",
      "NTPM10          13041 non-null float32\n",
      "ELPM10          12787 non-null float32\n",
      "DLWIND_DIREC    13849 non-null float32\n",
      "LBWIND_DIREC    13611 non-null float32\n",
      "CHWIND_DIREC    13802 non-null float32\n",
      "MLWIND_DIREC    13700 non-null float32\n",
      "SSWIND_DIREC    13699 non-null float32\n",
      "TSWIND_DIREC    13470 non-null float32\n",
      "NTWIND_DIREC    13825 non-null float32\n",
      "ELWIND_DIREC    13718 non-null float32\n",
      "DLWIND_SPEED    13853 non-null float32\n",
      "LBWIND_SPEED    13609 non-null float32\n",
      "CHWIND_SPEED    13890 non-null float32\n",
      "MLWIND_SPEED    13731 non-null float32\n",
      "SSWIND_SPEED    13504 non-null float32\n",
      "TSWIND_SPEED    13361 non-null float32\n",
      "NTWIND_SPEED    13826 non-null float32\n",
      "ELWIND_SPEED    13718 non-null float32\n",
      "dtypes: float32(36), object(1)\n",
      "memory usage: 2.1+ MB\n"
     ]
    }
   ],
   "source": [
    "mask = (df < 0)\n",
    "df = df.where(~mask, np.nan)\n",
    "nan_rows = df[df.isnull().T.any()]\n",
    "nan_rows.info()"
   ]
  },
  {
   "cell_type": "code",
   "execution_count": 7,
   "metadata": {},
   "outputs": [
    {
     "name": "stdout",
     "output_type": "stream",
     "text": [
      "<class 'pandas.core.frame.DataFrame'>\n",
      "RangeIndex: 43848 entries, 0 to 43847\n",
      "Data columns (total 37 columns):\n",
      "datetime        43848 non-null object\n",
      "target          41708 non-null float32\n",
      "ELAMB_TEMP      43546 non-null float32\n",
      "ELRAINFALL      43451 non-null float32\n",
      "ELRH            43471 non-null float32\n",
      "DLPM2.5         42496 non-null float32\n",
      "LBPM2.5         41008 non-null float32\n",
      "CHPM2.5         42455 non-null float32\n",
      "MLPM2.5         42741 non-null float32\n",
      "SSPM2.5         42727 non-null float32\n",
      "TSPM2.5         42623 non-null float32\n",
      "NTPM2.5         42506 non-null float32\n",
      "ELPM2.5         41709 non-null float32\n",
      "DLPM10          42722 non-null float32\n",
      "LBPM10          42066 non-null float32\n",
      "CHPM10          42834 non-null float32\n",
      "MLPM10          42444 non-null float32\n",
      "SSPM10          42755 non-null float32\n",
      "TSPM10          42582 non-null float32\n",
      "NTPM10          42870 non-null float32\n",
      "ELPM10          42616 non-null float32\n",
      "DLWIND_DIREC    43678 non-null float32\n",
      "LBWIND_DIREC    43440 non-null float32\n",
      "CHWIND_DIREC    43631 non-null float32\n",
      "MLWIND_DIREC    43529 non-null float32\n",
      "SSWIND_DIREC    43528 non-null float32\n",
      "TSWIND_DIREC    43299 non-null float32\n",
      "NTWIND_DIREC    43654 non-null float32\n",
      "ELWIND_DIREC    43547 non-null float32\n",
      "DLWIND_SPEED    43682 non-null float32\n",
      "LBWIND_SPEED    43438 non-null float32\n",
      "CHWIND_SPEED    43719 non-null float32\n",
      "MLWIND_SPEED    43560 non-null float32\n",
      "SSWIND_SPEED    43333 non-null float32\n",
      "TSWIND_SPEED    43190 non-null float32\n",
      "NTWIND_SPEED    43655 non-null float32\n",
      "ELWIND_SPEED    43547 non-null float32\n",
      "dtypes: float32(36), object(1)\n",
      "memory usage: 6.4+ MB\n"
     ]
    }
   ],
   "source": [
    "df.info()"
   ]
  },
  {
   "cell_type": "code",
   "execution_count": 8,
   "metadata": {
    "collapsed": true,
    "scrolled": false
   },
   "outputs": [],
   "source": [
    "df.to_csv(\"../data/many/nan.csv\", index=False)"
   ]
  },
  {
   "cell_type": "code",
   "execution_count": null,
   "metadata": {
    "collapsed": true
   },
   "outputs": [],
   "source": []
  }
 ],
 "metadata": {
  "anaconda-cloud": {},
  "kernelspec": {
   "display_name": "Python 2",
   "language": "python",
   "name": "python2"
  },
  "language_info": {
   "codemirror_mode": {
    "name": "ipython",
    "version": 2
   },
   "file_extension": ".py",
   "mimetype": "text/x-python",
   "name": "python",
   "nbconvert_exporter": "python",
   "pygments_lexer": "ipython2",
   "version": "2.7.13"
  }
 },
 "nbformat": 4,
 "nbformat_minor": 1
}
