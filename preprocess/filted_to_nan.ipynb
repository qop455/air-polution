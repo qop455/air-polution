{
 "cells": [
  {
   "cell_type": "code",
   "execution_count": 1,
   "metadata": {
    "collapsed": true
   },
   "outputs": [],
   "source": [
    "import pandas as pd\n",
    "import numpy as np\n",
    "\n",
    "df = pd.read_csv(\"../data/raw.csv\", index_col=\"datetime\")"
   ]
  },
  {
   "cell_type": "code",
   "execution_count": 2,
   "metadata": {},
   "outputs": [
    {
     "name": "stdout",
     "output_type": "stream",
     "text": [
      "<class 'pandas.core.frame.DataFrame'>\n",
      "Index: 87672 entries, 2007-01-01 00:00:00 to 2016-12-31 23:00:00\n",
      "Data columns (total 15 columns):\n",
      "EL_PM25        83705 non-null float32\n",
      "EL_TEMP        87040 non-null float32\n",
      "EL_RH          86424 non-null float32\n",
      "EL_RAINFALL    86856 non-null float32\n",
      "EL_WS          87061 non-null float32\n",
      "EL_WD          87060 non-null float32\n",
      "LB_PM25        75660 non-null float32\n",
      "LB_WS          86469 non-null float32\n",
      "LB_WD          86469 non-null float32\n",
      "NT_PM25        85036 non-null float32\n",
      "NT_WS          87187 non-null float32\n",
      "NT_WD          87186 non-null float32\n",
      "CH_PM25        83895 non-null float32\n",
      "CH_WS          86881 non-null float32\n",
      "CH_WD          86581 non-null float32\n",
      "dtypes: float32(15)\n",
      "memory usage: 5.7+ MB\n"
     ]
    }
   ],
   "source": [
    "for column in df.columns.tolist():\n",
    "    df[column][df[column].str.contains(\"[*#x]\") == True] = np.nan\n",
    "\n",
    "df = df.apply(pd.to_numeric, errors='ignore', downcast='float')\n",
    "\n",
    "mask = (df < 0)\n",
    "df = df.where(~mask, np.nan)\n",
    "\n",
    "df.info()"
   ]
  },
  {
   "cell_type": "code",
   "execution_count": 3,
   "metadata": {
    "scrolled": false
   },
   "outputs": [],
   "source": [
    "df.to_csv(\"../data/ensemble.csv\", index_label=\"datetime\")"
   ]
  }
 ],
 "metadata": {
  "anaconda-cloud": {},
  "kernelspec": {
   "display_name": "Python 2",
   "language": "python",
   "name": "python2"
  },
  "language_info": {
   "codemirror_mode": {
    "name": "ipython",
    "version": 2
   },
   "file_extension": ".py",
   "mimetype": "text/x-python",
   "name": "python",
   "nbconvert_exporter": "python",
   "pygments_lexer": "ipython2",
   "version": "2.7.13"
  }
 },
 "nbformat": 4,
 "nbformat_minor": 1
}
