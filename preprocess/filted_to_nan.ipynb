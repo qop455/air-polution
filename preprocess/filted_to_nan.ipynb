{
 "cells": [
  {
   "cell_type": "code",
   "execution_count": null,
   "metadata": {
    "collapsed": true
   },
   "outputs": [],
   "source": [
    "#version 1.0"
   ]
  },
  {
   "cell_type": "code",
   "execution_count": 3,
   "metadata": {
    "collapsed": true
   },
   "outputs": [],
   "source": [
    "import pandas as pd\n",
    "import numpy as np"
   ]
  },
  {
   "cell_type": "code",
   "execution_count": 4,
   "metadata": {
    "collapsed": true
   },
   "outputs": [],
   "source": [
    "df = pd.read_csv(\"../data/reshaped.csv\", parse_dates=True)"
   ]
  },
  {
   "cell_type": "code",
   "execution_count": 5,
   "metadata": {},
   "outputs": [
    {
     "name": "stdout",
     "output_type": "stream",
     "text": [
      "<class 'pandas.core.frame.DataFrame'>\n",
      "Int64Index: 1862 entries, 37 to 86774\n",
      "Data columns (total 14 columns):\n",
      "AMB_TEMP      1449 non-null object\n",
      "CO            1441 non-null object\n",
      "NO            1212 non-null object\n",
      "NO2           1026 non-null object\n",
      "NOx           1212 non-null object\n",
      "O3            1408 non-null object\n",
      "PM10          863 non-null object\n",
      "PM2.5         1005 non-null object\n",
      "RAINFALL      1442 non-null object\n",
      "RH            1446 non-null object\n",
      "SO2           1250 non-null object\n",
      "WIND_DIREC    1442 non-null object\n",
      "WIND_SPEED    1441 non-null object\n",
      "datetime      1862 non-null object\n",
      "dtypes: object(14)\n",
      "memory usage: 218.2+ KB\n"
     ]
    }
   ],
   "source": [
    "if 'station' in df.columns:\n",
    "    df = df.drop('station',1)\n",
    "\n",
    "columns = df.columns.tolist()\n",
    "nan_rows = df[df.isnull().T.any()]\n",
    "nan_rows.info()"
   ]
  },
  {
   "cell_type": "code",
   "execution_count": 6,
   "metadata": {},
   "outputs": [
    {
     "name": "stdout",
     "output_type": "stream",
     "text": [
      "<class 'pandas.core.frame.DataFrame'>\n",
      "Int64Index: 10863 entries, 36 to 87568\n",
      "Data columns (total 14 columns):\n",
      "AMB_TEMP      10232 non-null float32\n",
      "CO            9680 non-null float32\n",
      "NO            6818 non-null float32\n",
      "NO2           6818 non-null float32\n",
      "NOx           6818 non-null float32\n",
      "O3            9200 non-null float32\n",
      "PM10          8400 non-null float32\n",
      "PM2.5         6896 non-null float32\n",
      "RAINFALL      10047 non-null float32\n",
      "RH            9615 non-null float32\n",
      "SO2           8071 non-null float32\n",
      "WIND_DIREC    10251 non-null float32\n",
      "WIND_SPEED    10252 non-null float32\n",
      "datetime      10863 non-null object\n",
      "dtypes: float32(13), object(1)\n",
      "memory usage: 721.4+ KB\n"
     ]
    }
   ],
   "source": [
    "for column in columns:\n",
    "    df[column][df[column].str.contains(\"[*#x]\") == True] = np.nan\n",
    "\n",
    "df = df.apply(pd.to_numeric, errors='ignore', downcast='float')\n",
    "\n",
    "nan_rows = df[df.isnull().T.any()]\n",
    "nan_rows.info()"
   ]
  },
  {
   "cell_type": "code",
   "execution_count": 7,
   "metadata": {},
   "outputs": [
    {
     "name": "stdout",
     "output_type": "stream",
     "text": [
      "<class 'pandas.core.frame.DataFrame'>\n",
      "Int64Index: 11542 entries, 36 to 87568\n",
      "Data columns (total 14 columns):\n",
      "AMB_TEMP      10910 non-null float32\n",
      "CO            10341 non-null float32\n",
      "NO            7002 non-null float32\n",
      "NO2           7477 non-null float32\n",
      "NOx           7495 non-null float32\n",
      "O3            9879 non-null float32\n",
      "PM10          9079 non-null float32\n",
      "PM2.5         7575 non-null float32\n",
      "RAINFALL      10726 non-null float32\n",
      "RH            10294 non-null float32\n",
      "SO2           8504 non-null float32\n",
      "WIND_DIREC    10930 non-null float32\n",
      "WIND_SPEED    10931 non-null float32\n",
      "datetime      11542 non-null object\n",
      "dtypes: float32(13), object(1)\n",
      "memory usage: 766.5+ KB\n"
     ]
    }
   ],
   "source": [
    "mask = (df < 0)\n",
    "df = df.where(~mask, np.nan)\n",
    "nan_rows = df[df.isnull().T.any()]\n",
    "nan_rows.info()"
   ]
  },
  {
   "cell_type": "code",
   "execution_count": 8,
   "metadata": {
    "scrolled": false
   },
   "outputs": [],
   "source": [
    "df.to_csv(\"../data/filted_to_nan.csv\", index=False)"
   ]
  },
  {
   "cell_type": "code",
   "execution_count": null,
   "metadata": {
    "collapsed": true
   },
   "outputs": [],
   "source": []
  }
 ],
 "metadata": {
  "anaconda-cloud": {},
  "kernelspec": {
   "display_name": "Python 2",
   "language": "python",
   "name": "python2"
  },
  "language_info": {
   "codemirror_mode": {
    "name": "ipython",
    "version": 2
   },
   "file_extension": ".py",
   "mimetype": "text/x-python",
   "name": "python",
   "nbconvert_exporter": "python",
   "pygments_lexer": "ipython2",
   "version": "2.7.13"
  }
 },
 "nbformat": 4,
 "nbformat_minor": 1
}
