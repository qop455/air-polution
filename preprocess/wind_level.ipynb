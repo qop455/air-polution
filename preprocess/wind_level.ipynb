{
 "cells": [
  {
   "cell_type": "code",
   "execution_count": 1,
   "metadata": {
    "collapsed": true
   },
   "outputs": [],
   "source": [
    "import pandas as pd"
   ]
  },
  {
   "cell_type": "code",
   "execution_count": 2,
   "metadata": {
    "collapsed": true
   },
   "outputs": [],
   "source": [
    "inputfile = \"../data/interpolated.csv\"\n",
    "outputfile = \"../data/wind_level.csv\""
   ]
  },
  {
   "cell_type": "code",
   "execution_count": 3,
   "metadata": {},
   "outputs": [
    {
     "name": "stdout",
     "output_type": "stream",
     "text": [
      "<class 'pandas.core.frame.DataFrame'>\n",
      "RangeIndex: 87672 entries, 0 to 87671\n",
      "Data columns (total 14 columns):\n",
      "AMB_TEMP      87672 non-null float64\n",
      "CO            87672 non-null float64\n",
      "NO            87672 non-null float64\n",
      "NO2           87672 non-null float64\n",
      "NOx           87672 non-null float64\n",
      "O3            87672 non-null float64\n",
      "PM10          87672 non-null float64\n",
      "PM2.5         87672 non-null float64\n",
      "RAINFALL      86856 non-null float64\n",
      "RH            87672 non-null float64\n",
      "SO2           87672 non-null float64\n",
      "WIND_DIREC    87672 non-null float64\n",
      "WIND_SPEED    87672 non-null float64\n",
      "datetime      87672 non-null object\n",
      "dtypes: float64(13), object(1)\n",
      "memory usage: 9.4+ MB\n"
     ]
    }
   ],
   "source": [
    "df = pd.read_csv(inputfile, parse_dates=True)\n",
    "df.info()"
   ]
  },
  {
   "cell_type": "code",
   "execution_count": 4,
   "metadata": {
    "scrolled": true
   },
   "outputs": [],
   "source": [
    "for index, row in df.iterrows():\n",
    "    ws = row[\"WIND_SPEED\"]\n",
    "    if ws >= 0 and ws <= 0.3:\n",
    "        df.set_value(index, 'WIND_SPEED', 0)\n",
    "    elif ws >= 0.3 and ws < 1.6:\n",
    "        df.set_value(index, 'WIND_SPEED', 1)\n",
    "    elif ws >= 1.6 and ws < 3.4:\n",
    "        df.set_value(index, 'WIND_SPEED', 2)\n",
    "    elif ws >= 3.4 and ws < 5.5:\n",
    "        df.set_value(index, 'WIND_SPEED', 3)\n",
    "    elif ws >= 5.5 and ws < 8.0:\n",
    "        df.set_value(index, 'WIND_SPEED', 4)\n",
    "    elif ws >= 8.0 and ws < 10.8:\n",
    "        df.set_value(index, 'WIND_SPEED', 5)\n",
    "    elif ws >= 10.8 and ws < 13.9:\n",
    "        df.set_value(index, 'WIND_SPEED', 6)\n",
    "    elif ws >= 13.9 and ws < 17.2:\n",
    "        df.set_value(index, 'WIND_SPEED', 7)\n",
    "    elif ws >= 17.2 and ws < 20.8:\n",
    "        df.set_value(index, 'WIND_SPEED', 8)\n",
    "    elif ws >= 20.8 and ws < 24.5:\n",
    "        df.set_value(index, 'WIND_SPEED', 9)\n",
    "    elif ws >= 24.5 and ws < 28.5:\n",
    "        df.set_value(index, 'WIND_SPEED', 10)\n",
    "    elif ws >= 28.5 and ws < 32.6:\n",
    "        df.set_value(index, 'WIND_SPEED', 11)\n",
    "    elif ws >= 32.6 and ws < 37.0:\n",
    "        df.set_value(index, 'WIND_SPEED', 12)\n",
    "    else:\n",
    "        print ws\n",
    "        df.set_value(index, 'WIND_SPEED', -1)"
   ]
  },
  {
   "cell_type": "code",
   "execution_count": 5,
   "metadata": {},
   "outputs": [
    {
     "data": {
      "text/plain": [
       "count    87672.000000\n",
       "mean         2.227074\n",
       "std          1.008453\n",
       "min          0.000000\n",
       "25%          1.000000\n",
       "50%          2.000000\n",
       "75%          3.000000\n",
       "max          7.000000\n",
       "Name: WIND_SPEED, dtype: float64"
      ]
     },
     "execution_count": 5,
     "metadata": {},
     "output_type": "execute_result"
    }
   ],
   "source": [
    "df.WIND_SPEED.describe()"
   ]
  },
  {
   "cell_type": "code",
   "execution_count": 6,
   "metadata": {},
   "outputs": [],
   "source": [
    "#df.WS_HR.describe()"
   ]
  },
  {
   "cell_type": "code",
   "execution_count": 7,
   "metadata": {
    "collapsed": true
   },
   "outputs": [],
   "source": [
    "df.to_csv(outputfile, index=False)"
   ]
  },
  {
   "cell_type": "code",
   "execution_count": null,
   "metadata": {
    "collapsed": true
   },
   "outputs": [],
   "source": []
  }
 ],
 "metadata": {
  "kernelspec": {
   "display_name": "Python 2",
   "language": "python",
   "name": "python2"
  },
  "language_info": {
   "codemirror_mode": {
    "name": "ipython",
    "version": 2
   },
   "file_extension": ".py",
   "mimetype": "text/x-python",
   "name": "python",
   "nbconvert_exporter": "python",
   "pygments_lexer": "ipython2",
   "version": "2.7.13"
  }
 },
 "nbformat": 4,
 "nbformat_minor": 2
}
