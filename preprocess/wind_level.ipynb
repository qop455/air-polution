{
 "cells": [
  {
   "cell_type": "code",
   "execution_count": 1,
   "metadata": {
    "collapsed": true
   },
   "outputs": [],
   "source": [
    "import pandas as pd"
   ]
  },
  {
   "cell_type": "code",
   "execution_count": 2,
   "metadata": {
    "collapsed": true
   },
   "outputs": [],
   "source": [
    "inputfile = \"../data/interpolated.csv\"\n",
    "outputfile = \"../data/wind_level.csv\""
   ]
  },
  {
   "cell_type": "code",
   "execution_count": 3,
   "metadata": {},
   "outputs": [
    {
     "name": "stdout",
     "output_type": "stream",
     "text": [
      "<class 'pandas.core.frame.DataFrame'>\n",
      "RangeIndex: 8784 entries, 0 to 8783\n",
      "Data columns (total 16 columns):\n",
      "datetime      8784 non-null object\n",
      "AMB_TEMP      8784 non-null float64\n",
      "CO            8784 non-null float64\n",
      "NO            8784 non-null float64\n",
      "NO2           8784 non-null float64\n",
      "NOx           8784 non-null float64\n",
      "O3            8784 non-null float64\n",
      "PM10          8784 non-null float64\n",
      "PM2.5         8784 non-null float64\n",
      "RAINFALL      8724 non-null float64\n",
      "RH            8784 non-null float64\n",
      "SO2           8784 non-null float64\n",
      "WD_HR         8784 non-null float64\n",
      "WIND_DIREC    8784 non-null float64\n",
      "WIND_SPEED    8784 non-null float64\n",
      "WS_HR         8784 non-null float64\n",
      "dtypes: float64(15), object(1)\n",
      "memory usage: 1.1+ MB\n"
     ]
    }
   ],
   "source": [
    "df = pd.read_csv(inputfile, parse_dates=True)\n",
    "df.info()"
   ]
  },
  {
   "cell_type": "code",
   "execution_count": 4,
   "metadata": {
    "scrolled": true
   },
   "outputs": [
    {
     "name": "stderr",
     "output_type": "stream",
     "text": [
      "/Library/Frameworks/Python.framework/Versions/2.7/lib/python2.7/site-packages/pandas/core/indexing.py:179: SettingWithCopyWarning: \n",
      "A value is trying to be set on a copy of a slice from a DataFrame\n",
      "\n",
      "See the caveats in the documentation: http://pandas.pydata.org/pandas-docs/stable/indexing.html#indexing-view-versus-copy\n",
      "  self._setitem_with_indexer(indexer, value)\n"
     ]
    }
   ],
   "source": [
    "for index, row in df.iterrows():\n",
    "    ws = row[\"WIND_SPEED\"]\n",
    "    if ws >= 0 and ws <= 0.2:\n",
    "        df.WIND_SPEED.loc[index] = 0\n",
    "    elif ws >= 0.3 and ws < 1.6:\n",
    "        df.WIND_SPEED.loc[index] = 1\n",
    "    elif ws >= 1.6 and ws < 3.4:\n",
    "        df.WIND_SPEED.loc[index] = 2\n",
    "    elif ws >= 3.4 and ws < 5.5:\n",
    "        df.WIND_SPEED.loc[index] = 3\n",
    "    elif ws >= 5.5 and ws < 8.0:\n",
    "        df.WIND_SPEED.loc[index] = 4\n",
    "    elif ws >= 8.0 and ws < 10.8:\n",
    "        df.WIND_SPEED.loc[index] = 5\n",
    "    elif ws >= 10.8 and ws < 13.9:\n",
    "        df.WIND_SPEED.loc[index] = 6\n",
    "    elif ws >= 13.9 and ws < 17.2:\n",
    "        df.WIND_SPEED.loc[index] = 7\n",
    "    elif ws >= 17.2 and ws < 20.8:\n",
    "        df.WIND_SPEED.loc[index] = 8\n",
    "    elif ws >= 20.8 and ws < 24.5:\n",
    "        df.WIND_SPEED.loc[index] = 9\n",
    "    elif ws >= 24.5 and ws < 28.5:\n",
    "        df.WIND_SPEED.loc[index] = 10\n",
    "    elif ws >= 28.5 and ws < 32.6:\n",
    "        df.WIND_SPEED.loc[index] = 11\n",
    "    elif ws >= 32.6 and ws < 37.0:\n",
    "        df.WIND_SPEED.loc[index] = 12\n",
    "    else:\n",
    "        print ws\n",
    "        df.WIND_SPEED.loc[index] = -1\n",
    "        \n",
    "    ws = row[\"WS_HR\"]\n",
    "    if ws >= 0 and ws < 0.3:\n",
    "        df.WS_HR.loc[index] = 0\n",
    "    elif ws >= 0.3 and ws < 1.6:\n",
    "        df.WS_HR.loc[index] = 1\n",
    "    elif ws >= 1.6 and ws < 3.4:\n",
    "        df.WS_HR.loc[index] = 2\n",
    "    elif ws >= 3.4 and ws < 5.5:\n",
    "        df.WS_HR.loc[index] = 3\n",
    "    elif ws >= 5.5 and ws < 8.0:\n",
    "        df.WS_HR.loc[index] = 4\n",
    "    elif ws >= 8.0 and ws < 10.8:\n",
    "        df.WS_HR.loc[index] = 5\n",
    "    elif ws >= 10.8 and ws < 13.9:\n",
    "        df.WS_HR.loc[index] = 6\n",
    "    elif ws >= 13.9 and ws < 17.2:\n",
    "        df.WS_HR.loc[index] = 7\n",
    "    elif ws >= 17.2 and ws < 20.8:\n",
    "        df.WS_HR.loc[index] = 8\n",
    "    elif ws >= 20.8 and ws < 24.5:\n",
    "        df.WS_HR.loc[index] = 9\n",
    "    elif ws >= 24.5 and ws < 28.5:\n",
    "        df.WS_HR.loc[index] = 10\n",
    "    elif ws >= 28.5 and ws < 32.6:\n",
    "        df.WS_HR.loc[index] = 11\n",
    "    elif ws >= 32.6 and ws < 37.0:\n",
    "        df.WS_HR.loc[index] = 12\n",
    "    else:\n",
    "        print ws\n",
    "        df.WS_HR.loc[index] = -1"
   ]
  },
  {
   "cell_type": "code",
   "execution_count": 5,
   "metadata": {},
   "outputs": [
    {
     "data": {
      "text/plain": [
       "count    8784.000000\n",
       "mean        2.241689\n",
       "std         1.009456\n",
       "min         0.000000\n",
       "25%         2.000000\n",
       "50%         2.000000\n",
       "75%         3.000000\n",
       "max         7.000000\n",
       "Name: WIND_SPEED, dtype: float64"
      ]
     },
     "execution_count": 5,
     "metadata": {},
     "output_type": "execute_result"
    }
   ],
   "source": [
    "df.WIND_SPEED.describe()"
   ]
  },
  {
   "cell_type": "code",
   "execution_count": 6,
   "metadata": {},
   "outputs": [
    {
     "data": {
      "text/plain": [
       "count    8784.000000\n",
       "mean        1.893556\n",
       "std         0.960063\n",
       "min         0.000000\n",
       "25%         1.000000\n",
       "50%         2.000000\n",
       "75%         2.000000\n",
       "max         6.000000\n",
       "Name: WS_HR, dtype: float64"
      ]
     },
     "execution_count": 6,
     "metadata": {},
     "output_type": "execute_result"
    }
   ],
   "source": [
    "df.WS_HR.describe()"
   ]
  },
  {
   "cell_type": "code",
   "execution_count": 7,
   "metadata": {
    "collapsed": true
   },
   "outputs": [],
   "source": [
    "df.to_csv(outputfile, index=False)"
   ]
  },
  {
   "cell_type": "code",
   "execution_count": null,
   "metadata": {
    "collapsed": true
   },
   "outputs": [],
   "source": []
  }
 ],
 "metadata": {
  "kernelspec": {
   "display_name": "Python 2",
   "language": "python",
   "name": "python2"
  },
  "language_info": {
   "codemirror_mode": {
    "name": "ipython",
    "version": 2
   },
   "file_extension": ".py",
   "mimetype": "text/x-python",
   "name": "python",
   "nbconvert_exporter": "python",
   "pygments_lexer": "ipython2",
   "version": "2.7.13"
  }
 },
 "nbformat": 4,
 "nbformat_minor": 2
}
