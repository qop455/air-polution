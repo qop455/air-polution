{
 "cells": [
  {
   "cell_type": "code",
   "execution_count": null,
   "metadata": {
    "collapsed": true
   },
   "outputs": [],
   "source": [
    "#coding=\"big5\""
   ]
  },
  {
   "cell_type": "code",
   "execution_count": null,
   "metadata": {
    "collapsed": true
   },
   "outputs": [],
   "source": [
    "#version 1.0\n",
    "#2017/5/21"
   ]
  },
  {
   "cell_type": "code",
   "execution_count": 1,
   "metadata": {
    "collapsed": true
   },
   "outputs": [],
   "source": [
    "import pandas as pd\n",
    "import datetime\n",
    "\n",
    "HOUR_PER_DAY = 24"
   ]
  },
  {
   "cell_type": "code",
   "execution_count": 2,
   "metadata": {
    "collapsed": true
   },
   "outputs": [],
   "source": [
    "strInputPath = \"../../air-data/96年二林站_20080801.csv\"\n",
    "strOutputPath = \"../data/reshaped/reshaped_96.csv\""
   ]
  },
  {
   "cell_type": "code",
   "execution_count": 3,
   "metadata": {
    "collapsed": true
   },
   "outputs": [],
   "source": [
    "def _hourly_pivot(df, hour):\n",
    "    strColumn = \"{:02d}\".format(hour)\n",
    "    df_result = df.pivot(index=\"日期\", columns=\"測項\", values=strColumn)\n",
    "    df_result.index = df_result.index + datetime.timedelta(hours=hour)\n",
    "    return df_result"
   ]
  },
  {
   "cell_type": "code",
   "execution_count": 4,
   "metadata": {},
   "outputs": [],
   "source": [
    "df = pd.read_csv(strInputPath, parse_dates=[0], date_parser = pd.core.tools.datetimes.to_datetime)"
   ]
  },
  {
   "cell_type": "code",
   "execution_count": 5,
   "metadata": {},
   "outputs": [],
   "source": [
    "df.columns = ['日期','測站','測項', '00', '01', '02', '03', '04', '05', '06', '07', \n",
    "             '08', '09', '10', '11', '12', '13', '14', '15', \n",
    "             '16', '17', '18', '19', '20', '21', '22', '23']\n",
    "\n",
    "strStation = df[\"測站\"][0]\n",
    "df = df.replace(\"NR\", 0.0)"
   ]
  },
  {
   "cell_type": "code",
   "execution_count": 6,
   "metadata": {},
   "outputs": [
    {
     "name": "stdout",
     "output_type": "stream",
     "text": [
      "<class 'pandas.core.frame.DataFrame'>\n",
      "DatetimeIndex: 8760 entries, 2007-01-01 00:00:00 to 2007-12-31 23:00:00\n",
      "Data columns (total 16 columns):\n",
      "station       8760 non-null object\n",
      "AMB_TEMP      8721 non-null object\n",
      "CO            8721 non-null object\n",
      "NO            8698 non-null object\n",
      "NO2           8679 non-null object\n",
      "NOx           8698 non-null object\n",
      "O3            8712 non-null object\n",
      "PM10          8712 non-null object\n",
      "PM2.5         8707 non-null object\n",
      "RAINFALL      8722 non-null object\n",
      "RH            8720 non-null object\n",
      "SO2           8709 non-null object\n",
      "WD_HR         5521 non-null object\n",
      "WIND_DIREC    8720 non-null object\n",
      "WIND_SPEED    8720 non-null object\n",
      "WS_HR         5521 non-null object\n",
      "dtypes: object(16)\n",
      "memory usage: 1.1+ MB\n"
     ]
    }
   ],
   "source": [
    "df = pd.concat([_hourly_pivot(df, hour) for hour in range(HOUR_PER_DAY)])\n",
    "columns = df.columns\n",
    "df[\"station\"] = strStation\n",
    "df = df[[\"station\"] + list(columns)]\n",
    "df.index.name = \"datetime\"\n",
    "\n",
    "df = df.sort_index()\n",
    "\n",
    "df.to_csv(strOutputPath)\n",
    "df.info()"
   ]
  },
  {
   "cell_type": "code",
   "execution_count": null,
   "metadata": {
    "collapsed": true
   },
   "outputs": [],
   "source": []
  }
 ],
 "metadata": {
  "anaconda-cloud": {},
  "kernelspec": {
   "display_name": "Python 2",
   "language": "python",
   "name": "python2"
  },
  "language_info": {
   "codemirror_mode": {
    "name": "ipython",
    "version": 2
   },
   "file_extension": ".py",
   "mimetype": "text/x-python",
   "name": "python",
   "nbconvert_exporter": "python",
   "pygments_lexer": "ipython2",
   "version": "2.7.13"
  }
 },
 "nbformat": 4,
 "nbformat_minor": 1
}
