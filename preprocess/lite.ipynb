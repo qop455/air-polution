{
 "cells": [
  {
   "cell_type": "code",
   "execution_count": null,
   "metadata": {
    "collapsed": true
   },
   "outputs": [],
   "source": [
    "import pandas as pd"
   ]
  },
  {
   "cell_type": "code",
   "execution_count": null,
   "metadata": {
    "collapsed": true
   },
   "outputs": [],
   "source": [
    "data = pd.read_csv(\"../data/many/all.csv\", low_memory=False)\n",
    "\n",
    "PM25 = data[[col for col in data.columns.tolist() if \"_PM2.5\" in col]]\n",
    "\n",
    "#PM10 = data[[col for col in data.columns.tolist() if \"_PM10\" in col]]\n",
    "\n",
    "WIND_DIREC = data[[col for col in data.columns.tolist() if \"_WIND_DIREC\" in col]]\n",
    "\n",
    "WIND_SPEED = data[[col for col in data.columns.tolist() if \"_WIND_SPEED\" in col]]\n",
    "\n",
    "datetime = data[[\"datetime\"]]\n",
    "\n",
    "EL = data[[\"EL_AMB_TEMP\", \"EL_RAINFALL\", \"EL_RH\"]]\n",
    "\n",
    "output = pd.concat([datetime, EL, PM25, WIND_DIREC, WIND_SPEED], axis=1)"
   ]
  },
  {
   "cell_type": "code",
   "execution_count": null,
   "metadata": {},
   "outputs": [],
   "source": [
    "output.info()"
   ]
  },
  {
   "cell_type": "code",
   "execution_count": null,
   "metadata": {
    "collapsed": true
   },
   "outputs": [],
   "source": [
    "output.to_csv(\"../data/many/lite.csv\", index=False)"
   ]
  },
  {
   "cell_type": "code",
   "execution_count": null,
   "metadata": {
    "collapsed": true
   },
   "outputs": [],
   "source": []
  }
 ],
 "metadata": {
  "kernelspec": {
   "display_name": "Python 2",
   "language": "python",
   "name": "python2"
  },
  "language_info": {
   "codemirror_mode": {
    "name": "ipython",
    "version": 2
   },
   "file_extension": ".py",
   "mimetype": "text/x-python",
   "name": "python",
   "nbconvert_exporter": "python",
   "pygments_lexer": "ipython2",
   "version": "2.7.13"
  }
 },
 "nbformat": 4,
 "nbformat_minor": 2
}
