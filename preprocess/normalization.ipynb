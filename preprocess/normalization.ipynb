{
 "cells": [
  {
   "cell_type": "code",
   "execution_count": 1,
   "metadata": {
    "collapsed": true
   },
   "outputs": [],
   "source": [
    "import pandas as pd\n",
    "import matplotlib.pyplot as plt"
   ]
  },
  {
   "cell_type": "code",
   "execution_count": 2,
   "metadata": {
    "collapsed": true
   },
   "outputs": [],
   "source": [
    "inputfile = \"../data/wind_level.csv\"\n",
    "outputfile = \"../data/normalized.csv\""
   ]
  },
  {
   "cell_type": "code",
   "execution_count": 3,
   "metadata": {},
   "outputs": [
    {
     "name": "stdout",
     "output_type": "stream",
     "text": [
      "<class 'pandas.core.frame.DataFrame'>\n",
      "RangeIndex: 8784 entries, 0 to 8783\n",
      "Data columns (total 16 columns):\n",
      "datetime      8784 non-null object\n",
      "AMB_TEMP      8784 non-null float64\n",
      "CO            8784 non-null float64\n",
      "NO            8784 non-null float64\n",
      "NO2           8784 non-null float64\n",
      "NOx           8784 non-null float64\n",
      "O3            8784 non-null float64\n",
      "PM10          8784 non-null float64\n",
      "PM2.5         8784 non-null float64\n",
      "RAINFALL      8724 non-null float64\n",
      "RH            8784 non-null float64\n",
      "SO2           8784 non-null float64\n",
      "WD_HR         8784 non-null float64\n",
      "WIND_DIREC    8784 non-null float64\n",
      "WIND_SPEED    8784 non-null float64\n",
      "WS_HR         8784 non-null float64\n",
      "dtypes: float64(15), object(1)\n",
      "memory usage: 1.1+ MB\n"
     ]
    }
   ],
   "source": [
    "data = pd.read_csv(inputfile, parse_dates=True)\n",
    "df = data\n",
    "df.info()"
   ]
  },
  {
   "cell_type": "code",
   "execution_count": 4,
   "metadata": {
    "collapsed": true
   },
   "outputs": [],
   "source": [
    "exclude = [\"datetime\", \"WIND_DIREC\", \"WD_HR\"]\n",
    "columns = [column for column in df.columns if column not in exclude]"
   ]
  },
  {
   "cell_type": "code",
   "execution_count": 5,
   "metadata": {},
   "outputs": [
    {
     "name": "stdout",
     "output_type": "stream",
     "text": [
      "['AMB_TEMP', 'CO', 'NO', 'NO2', 'NOx', 'O3', 'PM10', 'PM2.5', 'RAINFALL', 'RH', 'SO2', 'WIND_SPEED', 'WS_HR']\n"
     ]
    }
   ],
   "source": [
    "print columns"
   ]
  },
  {
   "cell_type": "code",
   "execution_count": 6,
   "metadata": {},
   "outputs": [
    {
     "data": {
      "image/png": "[encoded data removed]",
      "text/plain": [
       "<matplotlib.figure.Figure at 0x1073bb950>"
      ]
     },
     "metadata": {},
     "output_type": "display_data"
    }
   ],
   "source": [
    "plt.rcParams['figure.figsize'] = [16.0, 8.0]\n",
    "plt.xlabel(\"PM2.5\")\n",
    "plt.ylabel(\"PDF\")\n",
    "plt.hist(df[\"PM2.5\"], bins = 50)\n",
    "plt.show()"
   ]
  },
  {
   "cell_type": "code",
   "execution_count": 7,
   "metadata": {
    "collapsed": true
   },
   "outputs": [],
   "source": [
    "new = df[columns]"
   ]
  },
  {
   "cell_type": "code",
   "execution_count": 8,
   "metadata": {
    "collapsed": true
   },
   "outputs": [],
   "source": [
    "norm = (new - new.min()) / (new.max() - new.min())"
   ]
  },
  {
   "cell_type": "code",
   "execution_count": 9,
   "metadata": {
    "collapsed": true
   },
   "outputs": [],
   "source": [
    "norm['datetime'] = df.datetime\n",
    "cols = norm.columns.tolist()\n",
    "cols = cols[-1:] + cols[:-1]\n",
    "norm = norm[cols]"
   ]
  },
  {
   "cell_type": "code",
   "execution_count": 10,
   "metadata": {
    "collapsed": true
   },
   "outputs": [],
   "source": [
    "norm.to_csv(outputfile, index=False)"
   ]
  },
  {
   "cell_type": "code",
   "execution_count": null,
   "metadata": {
    "collapsed": true
   },
   "outputs": [],
   "source": []
  }
 ],
 "metadata": {
  "kernelspec": {
   "display_name": "Python 2",
   "language": "python",
   "name": "python2"
  },
  "language_info": {
   "codemirror_mode": {
    "name": "ipython",
    "version": 2
   },
   "file_extension": ".py",
   "mimetype": "text/x-python",
   "name": "python",
   "nbconvert_exporter": "python",
   "pygments_lexer": "ipython2",
   "version": "2.7.13"
  }
 },
 "nbformat": 4,
 "nbformat_minor": 2
}
