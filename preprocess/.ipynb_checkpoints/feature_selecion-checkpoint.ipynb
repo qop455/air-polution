{
 "cells": [
  {
   "cell_type": "raw",
   "metadata": {},
   "source": [
    "#2017/06/07"
   ]
  },
  {
   "cell_type": "code",
   "execution_count": 1,
   "metadata": {
    "collapsed": true
   },
   "outputs": [],
   "source": [
    "import pandas as pd\n",
    "from sklearn.linear_model import Lasso\n",
    "from sklearn.feature_selection import SelectFromModel"
   ]
  },
  {
   "cell_type": "code",
   "execution_count": 2,
   "metadata": {},
   "outputs": [],
   "source": [
    "data = pd.read_csv(\"../data/dlt_date_feature.csv\")\n",
    "data = data.fillna(value=0)"
   ]
  },
  {
   "cell_type": "code",
   "execution_count": 3,
   "metadata": {},
   "outputs": [],
   "source": [
    "exclude = ['datetime', 'origin_PM2.5', 'PM2.5', 'WIND_SPEED', 'WD_HR', 'WIND_DIREC', 'dlt_PM2.5', 'weekday', 'weekend', 'hour_0', 'hour_1', 'hour_2', 'hour_3', 'hour_4', 'hour_5', 'hour_6', 'hour_7', 'hour_8', 'hour_9', 'hour_10', 'hour_11', 'hour_12', 'hour_13', 'hour_14', 'hour_15', 'hour_16', 'hour_17', 'hour_18', 'hour_19', 'hour_20', 'hour_21', 'hour_22', 'hour_23', 'fall', 'spring', 'summer', 'winter']\n",
    "features = [f for f in data.columns if f not in exclude]"
   ]
  },
  {
   "cell_type": "code",
   "execution_count": 4,
   "metadata": {},
   "outputs": [
    {
     "name": "stdout",
     "output_type": "stream",
     "text": [
      "['AMB_TEMP', 'RAINFALL', 'RH', 'WS_HR']\n"
     ]
    }
   ],
   "source": [
    "print features"
   ]
  },
  {
   "cell_type": "code",
   "execution_count": 5,
   "metadata": {},
   "outputs": [
    {
     "name": "stdout",
     "output_type": "stream",
     "text": [
      "   AMB_TEMP  RAINFALL        RH     WS_HR\n",
      "0  0.330986       0.0  0.732558  0.166667\n",
      "1  0.330986       0.0  0.744186  0.166667\n",
      "2  0.330986       0.0  0.767442  0.333333\n",
      "3  0.330986       0.0  0.767442  0.333333\n",
      "4  0.330986       0.0  0.779070  0.333333\n"
     ]
    }
   ],
   "source": [
    "X, y = data[features], data['PM2.5']\n",
    "print X[:5]"
   ]
  },
  {
   "cell_type": "code",
   "execution_count": 6,
   "metadata": {},
   "outputs": [
    {
     "name": "stdout",
     "output_type": "stream",
     "text": [
      "[(-0.0, 'RAINFALL'), (-0.107944, 'AMB_TEMP'), (-0.125136, 'RH'), (-0.131869, 'WS_HR')]\n"
     ]
    }
   ],
   "source": [
    "lasso = Lasso(alpha=1e-4)\n",
    "lasso.fit(X, y)\n",
    "print (sorted(zip(map(lambda x: round(x,6), lasso.coef_), features), reverse=True))"
   ]
  },
  {
   "cell_type": "code",
   "execution_count": 7,
   "metadata": {
    "scrolled": true
   },
   "outputs": [
    {
     "name": "stdout",
     "output_type": "stream",
     "text": [
      "(8784, 3) [[ 0.33098592  0.73255814  0.16666667]\n",
      " [ 0.33098592  0.74418605  0.16666667]\n",
      " [ 0.33098592  0.76744186  0.33333333]\n",
      " [ 0.33098592  0.76744186  0.33333333]\n",
      " [ 0.33098592  0.77906977  0.33333333]]\n"
     ]
    }
   ],
   "source": [
    "clf = Lasso(alpha=1e-4)\n",
    "sfm = SelectFromModel(clf, threshold=1e-4)\n",
    "sfm.fit(X, y)\n",
    "f = sfm.transform(X)\n",
    "print f.shape, f[:5]"
   ]
  },
  {
   "cell_type": "code",
   "execution_count": null,
   "metadata": {
    "collapsed": true
   },
   "outputs": [],
   "source": []
  }
 ],
 "metadata": {
  "kernelspec": {
   "display_name": "Python 2",
   "language": "python",
   "name": "python2"
  },
  "language_info": {
   "codemirror_mode": {
    "name": "ipython",
    "version": 2
   },
   "file_extension": ".py",
   "mimetype": "text/x-python",
   "name": "python",
   "nbconvert_exporter": "python",
   "pygments_lexer": "ipython2",
   "version": "2.7.13"
  }
 },
 "nbformat": 4,
 "nbformat_minor": 2
}
