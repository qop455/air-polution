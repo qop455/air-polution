{
 "cells": [
  {
   "cell_type": "code",
   "execution_count": 1,
   "metadata": {
    "collapsed": true
   },
   "outputs": [],
   "source": [
    "import pandas as pd\n",
    "import datetime\n",
    "\n",
    "HOUR_PER_DAY = 24"
   ]
  },
  {
   "cell_type": "code",
   "execution_count": 3,
   "metadata": {},
   "outputs": [],
   "source": [
    "strInputPath = \"../../中南部空品/中部/埔里/101年埔里站_20130424.xls\"\n",
    "strOutputPath = \"../../中南部空品/中部/埔里/101.csv\"\n",
    "\n",
    "def _hourly_pivot(df, hour):\n",
    "    strColumn = \"{:02d}\".format(hour)\n",
    "    df_result = df.pivot(index=\"日期\", columns=\"測項\", values=strColumn)\n",
    "    df_result.index = df_result.index + datetime.timedelta(hours=hour)\n",
    "    return df_result\n",
    "\n",
    "#df = pd.read_csv(strInputPath, parse_dates=[0], date_parser = pd.core.tools.datetimes.to_datetime)\n",
    "df = pd.read_excel(strInputPath, parse_dates=[u\"日期\"])\n",
    "\n",
    "df.columns = ['日期','測站','測項', '00', '01', '02', '03', '04', '05', '06', '07', \n",
    "             '08', '09', '10', '11', '12', '13', '14', '15', \n",
    "             '16', '17', '18', '19', '20', '21', '22', '23']\n",
    "\n",
    "strStation = df[\"測站\"][0]\n",
    "df = df.replace(\"NR\", 0.0)\n",
    "\n",
    "df = pd.concat([_hourly_pivot(df, hour) for hour in range(HOUR_PER_DAY)])\n",
    "columns = df.columns\n",
    "df[\"station\"] = strStation\n",
    "df = df[[\"station\"] + list(columns)]\n",
    "df.index.name = \"datetime\"\n",
    "\n",
    "df = df.sort_index()"
   ]
  },
  {
   "cell_type": "code",
   "execution_count": 4,
   "metadata": {},
   "outputs": [
    {
     "name": "stdout",
     "output_type": "stream",
     "text": [
      "<class 'pandas.core.frame.DataFrame'>\n",
      "DatetimeIndex: 8784 entries, 2012-01-01 00:00:00 to 2012-12-31 23:00:00\n",
      "Data columns (total 16 columns):\n",
      "station       8784 non-null object\n",
      "AMB_TEMP      8763 non-null object\n",
      "CO            8751 non-null object\n",
      "NO            8760 non-null object\n",
      "NO2           8745 non-null object\n",
      "NOx           8760 non-null object\n",
      "O3            8761 non-null object\n",
      "PM10          8481 non-null object\n",
      "PM2.5         8435 non-null object\n",
      "RAINFALL      8764 non-null object\n",
      "RH            8764 non-null object\n",
      "SO2           8755 non-null object\n",
      "WD_HR         8764 non-null object\n",
      "WIND_DIREC    8763 non-null object\n",
      "WIND_SPEED    8763 non-null object\n",
      "WS_HR         8764 non-null object\n",
      "dtypes: object(16)\n",
      "memory usage: 1.1+ MB\n"
     ]
    }
   ],
   "source": [
    "df.info()"
   ]
  },
  {
   "cell_type": "code",
   "execution_count": null,
   "metadata": {
    "collapsed": true
   },
   "outputs": [],
   "source": [
    "#df.to_csv(strOutputPath)\n",
    "df.to_csv(strOutputPath, encoding='big5')"
   ]
  },
  {
   "cell_type": "code",
   "execution_count": null,
   "metadata": {
    "collapsed": true
   },
   "outputs": [],
   "source": []
  }
 ],
 "metadata": {
  "anaconda-cloud": {},
  "kernelspec": {
   "display_name": "Python 2",
   "language": "python",
   "name": "python2"
  },
  "language_info": {
   "codemirror_mode": {
    "name": "ipython",
    "version": 2
   },
   "file_extension": ".py",
   "mimetype": "text/x-python",
   "name": "python",
   "nbconvert_exporter": "python",
   "pygments_lexer": "ipython2",
   "version": "2.7.13"
  }
 },
 "nbformat": 4,
 "nbformat_minor": 1
}
