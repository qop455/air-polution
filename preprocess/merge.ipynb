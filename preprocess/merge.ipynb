{
 "cells": [
  {
   "cell_type": "code",
   "execution_count": null,
   "metadata": {},
   "outputs": [],
   "source": [
    "import pandas as pd\n",
    "\n",
    "frames = list()\n",
    "\n",
    "for year in range(96, 106):\n",
    "    data = pd.read_csv(\"../../中南部/中部/彰化/\" + str(year) + \".csv\", parse_dates=True)\n",
    "    frames.append(data)\n",
    "\n",
    "df = pd.concat(frames)\n",
    "\n",
    "columns = df.columns.tolist()\n",
    "\n",
    "#df = df[[column for column in columns if column not in ['SHELT_TEMP', 'station', 'WD_HR', 'WS_HR']]]\n",
    "features = ['datetime', 'AMB_TEMP', 'CO', 'NO', 'NO2', 'NOx', 'O3', 'PM10', \n",
    "            'PM2.5', 'RAINFALL', 'RH', 'SO2', 'WIND_DIREC', 'WIND_SPEED']\n",
    "df = df[features]\n",
    "\n",
    "df['datetime'] = pd.to_datetime(df.datetime)\n",
    "\n",
    "df = df.sort_values(by='datetime')\n",
    "\n",
    "df.to_csv(\"../../中南部/中部/彰化/彰化.csv\", index=False)\n",
    "\n",
    "df.info()"
   ]
  },
  {
   "cell_type": "code",
   "execution_count": null,
   "metadata": {
    "collapsed": true
   },
   "outputs": [],
   "source": []
  }
 ],
 "metadata": {
  "kernelspec": {
   "display_name": "Python 2",
   "language": "python",
   "name": "python2"
  },
  "language_info": {
   "codemirror_mode": {
    "name": "ipython",
    "version": 2
   },
   "file_extension": ".py",
   "mimetype": "text/x-python",
   "name": "python",
   "nbconvert_exporter": "python",
   "pygments_lexer": "ipython2",
   "version": "2.7.13"
  }
 },
 "nbformat": 4,
 "nbformat_minor": 2
}
