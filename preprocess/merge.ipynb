{
 "cells": [
  {
   "cell_type": "code",
   "execution_count": 10,
   "metadata": {},
   "outputs": [
    {
     "name": "stdout",
     "output_type": "stream",
     "text": [
      "<class 'pandas.core.frame.DataFrame'>\n",
      "Int64Index: 43848 entries, 0 to 8783\n",
      "Data columns (total 14 columns):\n",
      "datetime      43848 non-null datetime64[ns]\n",
      "AMB_TEMP      43693 non-null object\n",
      "CO            43694 non-null object\n",
      "NO            43661 non-null object\n",
      "NO2           43565 non-null object\n",
      "NOx           43661 non-null object\n",
      "O3            43690 non-null object\n",
      "PM10          43062 non-null object\n",
      "PM2.5         43172 non-null object\n",
      "RAINFALL      43700 non-null object\n",
      "RH            43685 non-null object\n",
      "SO2           43638 non-null object\n",
      "WIND_DIREC    43690 non-null object\n",
      "WIND_SPEED    43691 non-null object\n",
      "dtypes: datetime64[ns](1), object(13)\n",
      "memory usage: 5.0+ MB\n"
     ]
    }
   ],
   "source": [
    "import pandas as pd\n",
    "\n",
    "frames = list()\n",
    "\n",
    "for year in range(101, 106):\n",
    "    data = pd.read_csv(\"../../中南部空品/南部/麥寮/\" + str(year) + \".csv\", parse_dates=True)\n",
    "    frames.append(data)\n",
    "\n",
    "df = pd.concat(frames)\n",
    "\n",
    "columns = df.columns.tolist()\n",
    "\n",
    "#df = df[[column for column in columns if column not in ['SHELT_TEMP', 'station', 'WD_HR', 'WS_HR']]]\n",
    "features = ['datetime', 'AMB_TEMP', 'CO', 'NO', 'NO2', 'NOx', 'O3', 'PM10', \n",
    "            'PM2.5', 'RAINFALL', 'RH', 'SO2', 'WIND_DIREC', 'WIND_SPEED']\n",
    "df = df[features]\n",
    "\n",
    "df['datetime'] = pd.to_datetime(df.datetime)\n",
    "\n",
    "df = df.sort_values(by='datetime')\n",
    "\n",
    "df.to_csv(\"../../中南部空品/南部/麥寮/麥寮.csv\", index=False)\n",
    "\n",
    "df.info()"
   ]
  },
  {
   "cell_type": "code",
   "execution_count": null,
   "metadata": {
    "collapsed": true
   },
   "outputs": [],
   "source": []
  }
 ],
 "metadata": {
  "kernelspec": {
   "display_name": "Python 2",
   "language": "python",
   "name": "python2"
  },
  "language_info": {
   "codemirror_mode": {
    "name": "ipython",
    "version": 2
   },
   "file_extension": ".py",
   "mimetype": "text/x-python",
   "name": "python",
   "nbconvert_exporter": "python",
   "pygments_lexer": "ipython2",
   "version": "2.7.13"
  }
 },
 "nbformat": 4,
 "nbformat_minor": 2
}
